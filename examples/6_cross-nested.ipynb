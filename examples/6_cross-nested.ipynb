{
 "cells": [
  {
   "cell_type": "code",
   "execution_count": null,
   "metadata": {},
   "outputs": [],
   "source": [
    "import sys\n",
    "sys.path.append('../')"
   ]
  },
  {
   "cell_type": "code",
   "execution_count": null,
   "metadata": {},
   "outputs": [],
   "source": [
    "from rumboost.utils import *\n",
    "from rumboost.utility_smoothing import *\n",
    "from rumboost.rumboost import *\n",
    "from rumboost.dataset import *\n",
    "from rumboost.models import *\n",
    "from rumboost.utility_plotting import *\n",
    "from rumboost.post_process import *\n",
    "\n",
    "import lightgbm"
   ]
  },
  {
   "cell_type": "markdown",
   "metadata": {},
   "source": [
    "# Example: Cross-nested logit model (correlation amongst alternative)\n",
    "\n",
    "This notebook shows features implemented in RUMBoost through an example on the LPMC dataset, a mode choice dataset in London developed Hillel et al. (2018). You can find the original source of data [here](https://www.icevirtuallibrary.com/doi/suppl/10.1680/jsmic.17.00018) and the original paper [here](https://www.icevirtuallibrary.com/doi/full/10.1680/jsmic.17.00018).\n",
    "\n",
    "We first load the preprocessed dataset and its folds for cross-validation. You can find the data under the Data folder"
   ]
  },
  {
   "cell_type": "code",
   "execution_count": null,
   "metadata": {},
   "outputs": [],
   "source": [
    "#load dataset\n",
    "LPMC_train, LPMC_test, folds = load_preprocess_LPMC()\n",
    "\n",
    "#load model\n",
    "LPMC_model = LPMC(LPMC_train)"
   ]
  },
  {
   "cell_type": "markdown",
   "metadata": {},
   "source": [
    "## Cross-Nested Logit model\n",
    "\n",
    "We relax the assumption that the error term is distributed i.i.d. We assume that alternatives are correlated amongst several nests to obtain a cross-nested logit-like model. Cross-Nested logit probabilities are implemented in RUMBoost. The additional parameters, the scale of a nest $\\mu$ and the membership of alternatives to nests, are treated as hyperparameters.\n",
    "\n",
    "Training a cross-nested logit-like rumboost model requires two additional arguments:\n",
    "\n",
    "- ```alphas```: a 2d numpy array of the form ```np.array([[alpha_00, alpha_01, alpha_02],[alpha_10, alpha_11, alpha_12], [alpha_20, alpha_21, alpha_22], [alpha_30, alpha_31, alpha_32]]``` where ```alpha_ij``` means the degree of membership of alternative ```i``` to nest ```j```\n",
    "- ```mu```: a list containing the values (as float) of mu for each nest, e.g. ```[mu_nest_0, mu_nest_1, mu_nest_2]```\n",
    "\n",
    "We test here a cross-nested logit model where the two nests are motorized and flexible. As this is a work in progress, we just arbitrarily choose values of mu and alphas. This will be later chosen with hyperparameter tuning."
   ]
  },
  {
   "cell_type": "code",
   "execution_count": null,
   "metadata": {},
   "outputs": [],
   "source": [
    "mu = [1.25, 1.16] #random values\n",
    "\n",
    "alphas  = np.array([[0, 1],\n",
    "                    [0, 1],\n",
    "                    [1, 0],\n",
    "                    [0.5, 0.5]])\n",
    "\n",
    "params = {'n_jobs': -1,\n",
    "          'num_classes':4,\n",
    "          'objective':'multiclass',\n",
    "          'boosting': 'gbdt',\n",
    "          'monotone_constraints_method': 'advanced',\n",
    "          'verbosity': -1,\n",
    "          'num_iterations':3000,\n",
    "          'early_stopping_round':100,\n",
    "          'learning_rate':0.1,\n",
    "          'max_depth':1\n",
    "          }\n",
    "\n",
    "rum_structure = bio_to_rumboost(LPMC_model)\n",
    "\n",
    "#features and label column names\n",
    "features = [f for f in LPMC_train.columns if f != \"choice\"]\n",
    "label = \"choice\"\n",
    "\n",
    "#create lightgbm dataset\n",
    "lgb_train_set = lightgbm.Dataset(LPMC_train[features], label=LPMC_train[label], free_raw_data=False)\n",
    "lgb_test_set = lightgbm.Dataset(LPMC_test[features], label=LPMC_test[label], free_raw_data=False)"
   ]
  },
  {
   "cell_type": "markdown",
   "metadata": {},
   "source": [
    "### Cross-Validation"
   ]
  },
  {
   "cell_type": "code",
   "execution_count": null,
   "metadata": {},
   "outputs": [
    {
     "name": "stdout",
     "output_type": "stream",
     "text": [
      "--------------------------------------------------\n",
      "\n",
      "Iteration 1\n"
     ]
    },
    {
     "name": "stderr",
     "output_type": "stream",
     "text": [
      "c:\\Users\\ucesnjs\\OneDrive - University College London\\Documents\\PhD - UCL\\rumboost\\example\\..\\rumboost\\rumboost.py:825: UserWarning: Found `num_iterations` in params. Will use it instead of argument\n",
      "  _log_warning(f\"Found `{alias}` in params. Will use it instead of argument\")\n",
      "c:\\Users\\ucesnjs\\anaconda32\\envs\\lightgbm\\Lib\\site-packages\\lightgbm\\basic.py:1780: UserWarning: Overriding the parameters from Reference Dataset.\n",
      "  _log_warning('Overriding the parameters from Reference Dataset.')\n",
      "c:\\Users\\ucesnjs\\anaconda32\\envs\\lightgbm\\Lib\\site-packages\\lightgbm\\basic.py:1780: UserWarning: Overriding the parameters from Reference Dataset.\n",
      "  _log_warning('Overriding the parameters from Reference Dataset.')\n",
      "c:\\Users\\ucesnjs\\anaconda32\\envs\\lightgbm\\Lib\\site-packages\\lightgbm\\basic.py:1780: UserWarning: Overriding the parameters from Reference Dataset.\n",
      "  _log_warning('Overriding the parameters from Reference Dataset.')\n",
      "c:\\Users\\ucesnjs\\anaconda32\\envs\\lightgbm\\Lib\\site-packages\\lightgbm\\basic.py:1780: UserWarning: Overriding the parameters from Reference Dataset.\n",
      "  _log_warning('Overriding the parameters from Reference Dataset.')\n"
     ]
    },
    {
     "name": "stdout",
     "output_type": "stream",
     "text": [
      "Finished loading model, total used 687 iterations\n",
      "Finished loading model, total used 687 iterations\n",
      "Finished loading model, total used 687 iterations\n",
      "Finished loading model, total used 687 iterations\n",
      "--------------------------------------------------\n",
      "\n",
      "Best cross entropy loss: 0.6560824787160351\n",
      "Best number of trees: 687\n",
      "--------------------------------------------------\n",
      "\n",
      "Iteration 2\n"
     ]
    },
    {
     "name": "stderr",
     "output_type": "stream",
     "text": [
      "c:\\Users\\ucesnjs\\OneDrive - University College London\\Documents\\PhD - UCL\\rumboost\\example\\..\\rumboost\\rumboost.py:825: UserWarning: Found `num_iterations` in params. Will use it instead of argument\n",
      "  _log_warning(f\"Found `{alias}` in params. Will use it instead of argument\")\n",
      "c:\\Users\\ucesnjs\\anaconda32\\envs\\lightgbm\\Lib\\site-packages\\lightgbm\\basic.py:1780: UserWarning: Overriding the parameters from Reference Dataset.\n",
      "  _log_warning('Overriding the parameters from Reference Dataset.')\n",
      "c:\\Users\\ucesnjs\\anaconda32\\envs\\lightgbm\\Lib\\site-packages\\lightgbm\\basic.py:1780: UserWarning: Overriding the parameters from Reference Dataset.\n",
      "  _log_warning('Overriding the parameters from Reference Dataset.')\n",
      "c:\\Users\\ucesnjs\\anaconda32\\envs\\lightgbm\\Lib\\site-packages\\lightgbm\\basic.py:1780: UserWarning: Overriding the parameters from Reference Dataset.\n",
      "  _log_warning('Overriding the parameters from Reference Dataset.')\n",
      "c:\\Users\\ucesnjs\\anaconda32\\envs\\lightgbm\\Lib\\site-packages\\lightgbm\\basic.py:1780: UserWarning: Overriding the parameters from Reference Dataset.\n",
      "  _log_warning('Overriding the parameters from Reference Dataset.')\n"
     ]
    },
    {
     "name": "stdout",
     "output_type": "stream",
     "text": [
      "Finished loading model, total used 687 iterations\n",
      "Finished loading model, total used 687 iterations\n",
      "Finished loading model, total used 687 iterations\n",
      "Finished loading model, total used 687 iterations\n",
      "--------------------------------------------------\n",
      "\n",
      "Best cross entropy loss: 0.6444866813873578\n",
      "Best number of trees: 687\n",
      "--------------------------------------------------\n",
      "\n",
      "Iteration 3\n"
     ]
    },
    {
     "name": "stderr",
     "output_type": "stream",
     "text": [
      "c:\\Users\\ucesnjs\\OneDrive - University College London\\Documents\\PhD - UCL\\rumboost\\example\\..\\rumboost\\rumboost.py:825: UserWarning: Found `num_iterations` in params. Will use it instead of argument\n",
      "  _log_warning(f\"Found `{alias}` in params. Will use it instead of argument\")\n",
      "c:\\Users\\ucesnjs\\anaconda32\\envs\\lightgbm\\Lib\\site-packages\\lightgbm\\basic.py:1780: UserWarning: Overriding the parameters from Reference Dataset.\n",
      "  _log_warning('Overriding the parameters from Reference Dataset.')\n",
      "c:\\Users\\ucesnjs\\anaconda32\\envs\\lightgbm\\Lib\\site-packages\\lightgbm\\basic.py:1780: UserWarning: Overriding the parameters from Reference Dataset.\n",
      "  _log_warning('Overriding the parameters from Reference Dataset.')\n",
      "c:\\Users\\ucesnjs\\anaconda32\\envs\\lightgbm\\Lib\\site-packages\\lightgbm\\basic.py:1780: UserWarning: Overriding the parameters from Reference Dataset.\n",
      "  _log_warning('Overriding the parameters from Reference Dataset.')\n",
      "c:\\Users\\ucesnjs\\anaconda32\\envs\\lightgbm\\Lib\\site-packages\\lightgbm\\basic.py:1780: UserWarning: Overriding the parameters from Reference Dataset.\n",
      "  _log_warning('Overriding the parameters from Reference Dataset.')\n"
     ]
    },
    {
     "name": "stdout",
     "output_type": "stream",
     "text": [
      "Finished loading model, total used 687 iterations\n",
      "Finished loading model, total used 687 iterations\n",
      "Finished loading model, total used 687 iterations\n",
      "Finished loading model, total used 687 iterations\n",
      "--------------------------------------------------\n",
      "\n",
      "Best cross entropy loss: 0.6594268117163683\n",
      "Best number of trees: 687\n",
      "--------------------------------------------------\n",
      "\n",
      "Iteration 4\n"
     ]
    },
    {
     "name": "stderr",
     "output_type": "stream",
     "text": [
      "c:\\Users\\ucesnjs\\OneDrive - University College London\\Documents\\PhD - UCL\\rumboost\\example\\..\\rumboost\\rumboost.py:825: UserWarning: Found `num_iterations` in params. Will use it instead of argument\n",
      "  _log_warning(f\"Found `{alias}` in params. Will use it instead of argument\")\n",
      "c:\\Users\\ucesnjs\\anaconda32\\envs\\lightgbm\\Lib\\site-packages\\lightgbm\\basic.py:1780: UserWarning: Overriding the parameters from Reference Dataset.\n",
      "  _log_warning('Overriding the parameters from Reference Dataset.')\n",
      "c:\\Users\\ucesnjs\\anaconda32\\envs\\lightgbm\\Lib\\site-packages\\lightgbm\\basic.py:1780: UserWarning: Overriding the parameters from Reference Dataset.\n",
      "  _log_warning('Overriding the parameters from Reference Dataset.')\n",
      "c:\\Users\\ucesnjs\\anaconda32\\envs\\lightgbm\\Lib\\site-packages\\lightgbm\\basic.py:1780: UserWarning: Overriding the parameters from Reference Dataset.\n",
      "  _log_warning('Overriding the parameters from Reference Dataset.')\n",
      "c:\\Users\\ucesnjs\\anaconda32\\envs\\lightgbm\\Lib\\site-packages\\lightgbm\\basic.py:1780: UserWarning: Overriding the parameters from Reference Dataset.\n",
      "  _log_warning('Overriding the parameters from Reference Dataset.')\n"
     ]
    },
    {
     "name": "stdout",
     "output_type": "stream",
     "text": [
      "Finished loading model, total used 687 iterations\n",
      "Finished loading model, total used 687 iterations\n",
      "Finished loading model, total used 687 iterations\n",
      "Finished loading model, total used 687 iterations\n",
      "--------------------------------------------------\n",
      "\n",
      "Best cross entropy loss: 0.6633328079905507\n",
      "Best number of trees: 687\n",
      "--------------------------------------------------\n",
      "\n",
      "Iteration 5\n"
     ]
    },
    {
     "name": "stderr",
     "output_type": "stream",
     "text": [
      "c:\\Users\\ucesnjs\\OneDrive - University College London\\Documents\\PhD - UCL\\rumboost\\example\\..\\rumboost\\rumboost.py:825: UserWarning: Found `num_iterations` in params. Will use it instead of argument\n",
      "  _log_warning(f\"Found `{alias}` in params. Will use it instead of argument\")\n",
      "c:\\Users\\ucesnjs\\anaconda32\\envs\\lightgbm\\Lib\\site-packages\\lightgbm\\basic.py:1780: UserWarning: Overriding the parameters from Reference Dataset.\n",
      "  _log_warning('Overriding the parameters from Reference Dataset.')\n",
      "c:\\Users\\ucesnjs\\anaconda32\\envs\\lightgbm\\Lib\\site-packages\\lightgbm\\basic.py:1780: UserWarning: Overriding the parameters from Reference Dataset.\n",
      "  _log_warning('Overriding the parameters from Reference Dataset.')\n",
      "c:\\Users\\ucesnjs\\anaconda32\\envs\\lightgbm\\Lib\\site-packages\\lightgbm\\basic.py:1780: UserWarning: Overriding the parameters from Reference Dataset.\n",
      "  _log_warning('Overriding the parameters from Reference Dataset.')\n",
      "c:\\Users\\ucesnjs\\anaconda32\\envs\\lightgbm\\Lib\\site-packages\\lightgbm\\basic.py:1780: UserWarning: Overriding the parameters from Reference Dataset.\n",
      "  _log_warning('Overriding the parameters from Reference Dataset.')\n"
     ]
    },
    {
     "name": "stdout",
     "output_type": "stream",
     "text": [
      "Finished loading model, total used 687 iterations\n",
      "Finished loading model, total used 687 iterations\n",
      "Finished loading model, total used 687 iterations\n",
      "Finished loading model, total used 687 iterations\n",
      "--------------------------------------------------\n",
      "\n",
      "Best cross entropy loss: 0.6666172963883393\n",
      "Best number of trees: 683\n",
      "--------------------------------------------------\n",
      "\n",
      "Cross validation negative cross entropy loss: 0.6579892152397303\n",
      "With a number of trees on average of 686.2\n"
     ]
    }
   ],
   "source": [
    "_, _, folds = load_preprocess_LPMC()\n",
    "\n",
    "ce_loss = 0\n",
    "num_trees = 0\n",
    "\n",
    "#5-fold CV\n",
    "for i, (train_idx, test_idx) in enumerate(folds):\n",
    "\n",
    "    #train and validation set\n",
    "    train_set = lgb_train_set.subset(sorted(train_idx))\n",
    "    test_set = lgb_train_set.subset(sorted(test_idx))\n",
    "\n",
    "    #deep copy of params\n",
    "    param = copy.deepcopy(params)\n",
    "\n",
    "    print('-'*50 + '\\n')\n",
    "    print(f'Iteration {i+1}')\n",
    "\n",
    "    #train rum_boost with cross-nested arguments\n",
    "    LPMC_model_trained = rum_train(param,train_set,rum_structure=rum_structure, valid_sets = [test_set], mu=mu, alphas=alphas)\n",
    "\n",
    "    #aggregate results\n",
    "    ce_loss += LPMC_model_trained.best_score\n",
    "    num_trees += LPMC_model_trained.best_iteration\n",
    "    \n",
    "    print('-'*50 + '\\n')\n",
    "    print(f'Best cross entropy loss: {LPMC_model_trained.best_score}')\n",
    "    print(f'Best number of trees: {LPMC_model_trained.best_iteration}')\n",
    "\n",
    "ce_loss = ce_loss/5\n",
    "num_trees = num_trees/5\n",
    "print('-'*50 + '\\n')\n",
    "print(f'Cross validation negative cross entropy loss: {ce_loss}')\n",
    "print(f'With a number of trees on average of {num_trees}')"
   ]
  },
  {
   "cell_type": "markdown",
   "metadata": {},
   "source": [
    "### Testing the model on out-of-sample data\n",
    "\n",
    "Now that we have the optimal number of trees (686), we can train the final version of the model on the full dataset, and test it on out-of-sample data with the ```predict()``` function. Note that the dataset must be a lightgbm object in the ```predict()``` function.\n",
    "\n",
    "**Also note that you need to specify ```mu``` and ```alphas``` in the predict function to adapt the probability formula accordingly.**"
   ]
  },
  {
   "cell_type": "code",
   "execution_count": null,
   "metadata": {},
   "outputs": [
    {
     "name": "stderr",
     "output_type": "stream",
     "text": [
      "c:\\Users\\ucesnjs\\OneDrive - University College London\\Documents\\PhD - UCL\\rumboost\\example\\..\\rumboost\\rumboost.py:825: UserWarning: Found `num_iterations` in params. Will use it instead of argument\n",
      "  _log_warning(f\"Found `{alias}` in params. Will use it instead of argument\")\n"
     ]
    },
    {
     "name": "stdout",
     "output_type": "stream",
     "text": [
      "Finished loading model, total used 686 iterations\n",
      "Finished loading model, total used 686 iterations\n",
      "Finished loading model, total used 686 iterations\n",
      "Finished loading model, total used 686 iterations\n",
      "--------------------------------------------------\n",
      "Final negative cross-entropy on the test set: 0.6796725053458201\n"
     ]
    }
   ],
   "source": [
    "params = {'n_jobs': -1,\n",
    "          'num_classes':4,\n",
    "          'objective':'multiclass',\n",
    "          'boosting': 'gbdt',\n",
    "          'monotone_constraints_method': 'advanced',\n",
    "          'verbosity': -1,\n",
    "          'num_iterations':686,\n",
    "          #'early_stopping_round':100,\n",
    "          'learning_rate':0.1,\n",
    "          'max_depth':1\n",
    "          }\n",
    "\n",
    "LPMCCN_model_fully_trained = rum_train(params, lgb_train_set, rum_structure, mu=mu, alphas=alphas)\n",
    "\n",
    "preds, _, _ = LPMCCN_model_fully_trained.predict(lgb_test_set, mu=mu, alphas=alphas)\n",
    "\n",
    "ce_test = cross_entropy(preds, lgb_test_set.get_label().astype(int))\n",
    "\n",
    "print('-'*50)\n",
    "print(f'Final negative cross-entropy on the test set: {ce_test}')"
   ]
  },
  {
   "cell_type": "markdown",
   "metadata": {},
   "source": [
    "# References\n",
    "\n",
    "Salvadé, N., & Hillel, T. (2024). Rumboost: Gradient Boosted Random Utility Models. *arXiv preprint [arXiv:2401.11954](https://arxiv.org/abs/2401.11954)*\n",
    "\n",
    "Hillel, T., Elshafie, M.Z.E.B., Jin, Y., 2018. Recreating passenger mode choice-sets for transport simulation: A case study of London, UK. Proceedings of the Institution of Civil Engineers - Smart Infrastructure and Construction 171, 29–42. https://doi.org/10.1680/jsmic.17.00018"
   ]
  },
  {
   "cell_type": "markdown",
   "metadata": {},
   "source": []
  }
 ],
 "metadata": {
  "language_info": {
   "name": "python"
  }
 },
 "nbformat": 4,
 "nbformat_minor": 2
}
