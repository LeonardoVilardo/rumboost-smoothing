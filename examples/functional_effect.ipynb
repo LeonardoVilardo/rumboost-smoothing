{
 "cells": [
  {
   "cell_type": "code",
   "execution_count": null,
   "metadata": {},
   "outputs": [],
   "source": [
    "import sys\n",
    "sys.path.append('../')"
   ]
  },
  {
   "cell_type": "code",
   "execution_count": null,
   "metadata": {},
   "outputs": [],
   "source": [
    "from rumboost.utils import *\n",
    "from rumboost.utility_smoothing import *\n",
    "from rumboost.rumboost import *\n",
    "from rumboost.dataset import *\n",
    "from rumboost.models import *\n",
    "from rumboost.utility_plotting import *\n",
    "from rumboost.post_process import *\n",
    "\n",
    "import lightgbm"
   ]
  },
  {
   "cell_type": "markdown",
   "metadata": {},
   "source": [
    "# Example: Functional effect model (correlation amongst observations)\n",
    "\n",
    "This notebook shows features implemented in RUMBoost through an example on the LPMC dataset, a mode choice dataset in London developed Hillel et al. (2018). You can find the original source of data [here](https://www.icevirtuallibrary.com/doi/suppl/10.1680/jsmic.17.00018) and the original paper [here](https://www.icevirtuallibrary.com/doi/full/10.1680/jsmic.17.00018).\n",
    "\n",
    "We first load the preprocessed dataset and its folds for cross-validation. You can find the data under the Data folder"
   ]
  },
  {
   "cell_type": "code",
   "execution_count": null,
   "metadata": {},
   "outputs": [],
   "source": [
    "#load dataset\n",
    "LPMC_train, LPMC_test, folds = load_preprocess_LPMC()\n",
    "\n",
    "#load model\n",
    "LPMC_model = LPMC(LPMC_train)"
   ]
  },
  {
   "cell_type": "markdown",
   "metadata": {},
   "source": [
    "## Functional effect model\n",
    "\n",
    "We also present the functional effect model, inspired from the Mixed Effect models. We create two ensembles where one contains the attributes with no interaction, and another one contains the socio-economic characteristics, with no interaction restrictions. The only thing that needs to be updated is the ```rum_structure``` dictionary where there are now ```2*num_classes``` dictionaries in the list.\n",
    "\n",
    "```rum_structure``` follows this form: ```[dictionary_alt_0_without_interaction, dictionary_alt_0_with_interactions, dictionary_alt_1_without_interactions, ...]```\n",
    "\n",
    "It can be manually specified, or using the ```bio_to_rumboost()``` function with the ```fct_effect_variables``` argument.\n",
    "\n",
    "In addition, a set of parameters ```params_fe``` to apply on the ensembles with full interaction needs to be specified in the argument of the ```rum_train``` function"
   ]
  },
  {
   "cell_type": "code",
   "execution_count": null,
   "metadata": {},
   "outputs": [],
   "source": [
    "fct_effect_variables = ['age', 'female', 'start_time_linear', 'travel_day', 'day_of_week', 'car_ownership', 'driving_license', 'purpose_B', 'purpose_HBE', 'purpose_HBO', 'purpose_HBW', 'purpose_NHBO', 'fueltype_Average', 'fueltype_Diesel', 'fueltype_Hybrid', 'fueltype_Petrol']\n",
    "\n",
    "rum_structure = bio_to_rumboost(LPMC_model, fct_effect_variables=fct_effect_variables)\n",
    "rum_structure"
   ]
  },
  {
   "cell_type": "markdown",
   "metadata": {},
   "source": [
    "### Hyperparameter search\n",
    "\n",
    "Since the second part of the model has full feature interactions, we need to regularise it. Therefore we can conduct a hyperparameter search on the parameters of the second part of the model with hyperopt (mode details [here](https://hyperopt.github.io/hyperopt/).).\n",
    "We won't run the full hyperparameter search, but we did run this code with 100 iterations for the paper."
   ]
  },
  {
   "cell_type": "code",
   "execution_count": null,
   "metadata": {},
   "outputs": [
    {
     "name": "stdout",
     "output_type": "stream",
     "text": [
      "  0%|          | 0/1 [00:00<?, ?trial/s, best loss=?]"
     ]
    },
    {
     "name": "stderr",
     "output_type": "stream",
     "text": [
      "c:\\Users\\ucesnjs\\OneDrive - University College London\\Documents\\PhD - UCL\\rumboost\\example\\..\\rumboost\\rumboost.py:825: UserWarning: Found `num_boost_round` in params. Will use it instead of argument\n",
      "  _log_warning(f\"Found `{alias}` in params. Will use it instead of argument\")\n",
      "\n",
      "c:\\Users\\ucesnjs\\anaconda32\\envs\\lightgbm\\Lib\\site-packages\\lightgbm\\basic.py:1780: UserWarning: Overriding the parameters from Reference Dataset.\n",
      "  _log_warning('Overriding the parameters from Reference Dataset.')\n",
      "\n",
      "c:\\Users\\ucesnjs\\anaconda32\\envs\\lightgbm\\Lib\\site-packages\\lightgbm\\basic.py:1780: UserWarning: Overriding the parameters from Reference Dataset.\n",
      "  _log_warning('Overriding the parameters from Reference Dataset.')\n",
      "\n",
      "c:\\Users\\ucesnjs\\anaconda32\\envs\\lightgbm\\Lib\\site-packages\\lightgbm\\basic.py:1780: UserWarning: Overriding the parameters from Reference Dataset.\n",
      "  _log_warning('Overriding the parameters from Reference Dataset.')\n",
      "\n",
      "c:\\Users\\ucesnjs\\anaconda32\\envs\\lightgbm\\Lib\\site-packages\\lightgbm\\basic.py:1780: UserWarning: Overriding the parameters from Reference Dataset.\n",
      "  _log_warning('Overriding the parameters from Reference Dataset.')\n",
      "\n",
      "c:\\Users\\ucesnjs\\anaconda32\\envs\\lightgbm\\Lib\\site-packages\\lightgbm\\basic.py:1780: UserWarning: Overriding the parameters from Reference Dataset.\n",
      "  _log_warning('Overriding the parameters from Reference Dataset.')\n",
      "\n",
      "c:\\Users\\ucesnjs\\anaconda32\\envs\\lightgbm\\Lib\\site-packages\\lightgbm\\basic.py:1780: UserWarning: Overriding the parameters from Reference Dataset.\n",
      "  _log_warning('Overriding the parameters from Reference Dataset.')\n",
      "\n",
      "c:\\Users\\ucesnjs\\anaconda32\\envs\\lightgbm\\Lib\\site-packages\\lightgbm\\basic.py:1780: UserWarning: Overriding the parameters from Reference Dataset.\n",
      "  _log_warning('Overriding the parameters from Reference Dataset.')\n",
      "\n",
      "c:\\Users\\ucesnjs\\anaconda32\\envs\\lightgbm\\Lib\\site-packages\\lightgbm\\basic.py:1780: UserWarning: Overriding the parameters from Reference Dataset.\n",
      "  _log_warning('Overriding the parameters from Reference Dataset.')\n",
      "\n"
     ]
    },
    {
     "name": "stdout",
     "output_type": "stream",
     "text": [
      "Early stopping at iteration 1251, with a best score on test set of 0.6454486526957377, and on train set of 0.6042533670346607\n",
      "Finished loading model, total used 1352 iterations   \n",
      "Finished loading model, total used 141 iterations    \n",
      "Finished loading model, total used 1352 iterations   \n",
      "Finished loading model, total used 136 iterations    \n",
      "Finished loading model, total used 1352 iterations   \n",
      "Finished loading model, total used 167 iterations    \n",
      "Finished loading model, total used 1352 iterations   \n",
      "Finished loading model, total used 177 iterations    \n",
      "  0%|          | 0/1 [00:16<?, ?trial/s, best loss=?]"
     ]
    },
    {
     "name": "stderr",
     "output_type": "stream",
     "text": [
      "c:\\Users\\ucesnjs\\OneDrive - University College London\\Documents\\PhD - UCL\\rumboost\\example\\..\\rumboost\\rumboost.py:825: UserWarning: Found `num_boost_round` in params. Will use it instead of argument\n",
      "  _log_warning(f\"Found `{alias}` in params. Will use it instead of argument\")\n",
      "\n",
      "c:\\Users\\ucesnjs\\anaconda32\\envs\\lightgbm\\Lib\\site-packages\\lightgbm\\basic.py:1780: UserWarning: Overriding the parameters from Reference Dataset.\n",
      "  _log_warning('Overriding the parameters from Reference Dataset.')\n",
      "\n",
      "c:\\Users\\ucesnjs\\anaconda32\\envs\\lightgbm\\Lib\\site-packages\\lightgbm\\basic.py:1780: UserWarning: Overriding the parameters from Reference Dataset.\n",
      "  _log_warning('Overriding the parameters from Reference Dataset.')\n",
      "\n",
      "c:\\Users\\ucesnjs\\anaconda32\\envs\\lightgbm\\Lib\\site-packages\\lightgbm\\basic.py:1780: UserWarning: Overriding the parameters from Reference Dataset.\n",
      "  _log_warning('Overriding the parameters from Reference Dataset.')\n",
      "\n",
      "c:\\Users\\ucesnjs\\anaconda32\\envs\\lightgbm\\Lib\\site-packages\\lightgbm\\basic.py:1780: UserWarning: Overriding the parameters from Reference Dataset.\n",
      "  _log_warning('Overriding the parameters from Reference Dataset.')\n",
      "\n",
      "c:\\Users\\ucesnjs\\anaconda32\\envs\\lightgbm\\Lib\\site-packages\\lightgbm\\basic.py:1780: UserWarning: Overriding the parameters from Reference Dataset.\n",
      "  _log_warning('Overriding the parameters from Reference Dataset.')\n",
      "\n",
      "c:\\Users\\ucesnjs\\anaconda32\\envs\\lightgbm\\Lib\\site-packages\\lightgbm\\basic.py:1780: UserWarning: Overriding the parameters from Reference Dataset.\n",
      "  _log_warning('Overriding the parameters from Reference Dataset.')\n",
      "\n",
      "c:\\Users\\ucesnjs\\anaconda32\\envs\\lightgbm\\Lib\\site-packages\\lightgbm\\basic.py:1780: UserWarning: Overriding the parameters from Reference Dataset.\n",
      "  _log_warning('Overriding the parameters from Reference Dataset.')\n",
      "\n",
      "c:\\Users\\ucesnjs\\anaconda32\\envs\\lightgbm\\Lib\\site-packages\\lightgbm\\basic.py:1780: UserWarning: Overriding the parameters from Reference Dataset.\n",
      "  _log_warning('Overriding the parameters from Reference Dataset.')\n",
      "\n"
     ]
    },
    {
     "name": "stdout",
     "output_type": "stream",
     "text": [
      "Early stopping at iteration 893, with a best score on test set of 0.6302918556697563, and on train set of 0.6096794185154071\n",
      "Finished loading model, total used 994 iterations    \n",
      "Finished loading model, total used 147 iterations    \n",
      "Finished loading model, total used 994 iterations    \n",
      "Finished loading model, total used 79 iterations     \n",
      "Finished loading model, total used 994 iterations    \n",
      "Finished loading model, total used 149 iterations    \n",
      "Finished loading model, total used 994 iterations    \n",
      "Finished loading model, total used 169 iterations    \n",
      "  0%|          | 0/1 [00:28<?, ?trial/s, best loss=?]"
     ]
    },
    {
     "name": "stderr",
     "output_type": "stream",
     "text": [
      "c:\\Users\\ucesnjs\\OneDrive - University College London\\Documents\\PhD - UCL\\rumboost\\example\\..\\rumboost\\rumboost.py:825: UserWarning: Found `num_boost_round` in params. Will use it instead of argument\n",
      "  _log_warning(f\"Found `{alias}` in params. Will use it instead of argument\")\n",
      "\n",
      "c:\\Users\\ucesnjs\\anaconda32\\envs\\lightgbm\\Lib\\site-packages\\lightgbm\\basic.py:1780: UserWarning: Overriding the parameters from Reference Dataset.\n",
      "  _log_warning('Overriding the parameters from Reference Dataset.')\n",
      "\n",
      "c:\\Users\\ucesnjs\\anaconda32\\envs\\lightgbm\\Lib\\site-packages\\lightgbm\\basic.py:1780: UserWarning: Overriding the parameters from Reference Dataset.\n",
      "  _log_warning('Overriding the parameters from Reference Dataset.')\n",
      "\n",
      "c:\\Users\\ucesnjs\\anaconda32\\envs\\lightgbm\\Lib\\site-packages\\lightgbm\\basic.py:1780: UserWarning: Overriding the parameters from Reference Dataset.\n",
      "  _log_warning('Overriding the parameters from Reference Dataset.')\n",
      "\n",
      "c:\\Users\\ucesnjs\\anaconda32\\envs\\lightgbm\\Lib\\site-packages\\lightgbm\\basic.py:1780: UserWarning: Overriding the parameters from Reference Dataset.\n",
      "  _log_warning('Overriding the parameters from Reference Dataset.')\n",
      "\n",
      "c:\\Users\\ucesnjs\\anaconda32\\envs\\lightgbm\\Lib\\site-packages\\lightgbm\\basic.py:1780: UserWarning: Overriding the parameters from Reference Dataset.\n",
      "  _log_warning('Overriding the parameters from Reference Dataset.')\n",
      "\n",
      "c:\\Users\\ucesnjs\\anaconda32\\envs\\lightgbm\\Lib\\site-packages\\lightgbm\\basic.py:1780: UserWarning: Overriding the parameters from Reference Dataset.\n",
      "  _log_warning('Overriding the parameters from Reference Dataset.')\n",
      "\n",
      "c:\\Users\\ucesnjs\\anaconda32\\envs\\lightgbm\\Lib\\site-packages\\lightgbm\\basic.py:1780: UserWarning: Overriding the parameters from Reference Dataset.\n",
      "  _log_warning('Overriding the parameters from Reference Dataset.')\n",
      "\n",
      "c:\\Users\\ucesnjs\\anaconda32\\envs\\lightgbm\\Lib\\site-packages\\lightgbm\\basic.py:1780: UserWarning: Overriding the parameters from Reference Dataset.\n",
      "  _log_warning('Overriding the parameters from Reference Dataset.')\n",
      "\n"
     ]
    },
    {
     "name": "stdout",
     "output_type": "stream",
     "text": [
      "Early stopping at iteration 811, with a best score on test set of 0.6499427595124949, and on train set of 0.6020655160103751\n",
      "Finished loading model, total used 912 iterations    \n",
      "Finished loading model, total used 176 iterations    \n",
      "Finished loading model, total used 912 iterations    \n",
      "Finished loading model, total used 114 iterations    \n",
      "Finished loading model, total used 912 iterations    \n",
      "Finished loading model, total used 168 iterations    \n",
      "Finished loading model, total used 912 iterations    \n",
      "Finished loading model, total used 172 iterations    \n",
      "  0%|          | 0/1 [00:39<?, ?trial/s, best loss=?]"
     ]
    },
    {
     "name": "stderr",
     "output_type": "stream",
     "text": [
      "c:\\Users\\ucesnjs\\OneDrive - University College London\\Documents\\PhD - UCL\\rumboost\\example\\..\\rumboost\\rumboost.py:825: UserWarning: Found `num_boost_round` in params. Will use it instead of argument\n",
      "  _log_warning(f\"Found `{alias}` in params. Will use it instead of argument\")\n",
      "\n",
      "c:\\Users\\ucesnjs\\anaconda32\\envs\\lightgbm\\Lib\\site-packages\\lightgbm\\basic.py:1780: UserWarning: Overriding the parameters from Reference Dataset.\n",
      "  _log_warning('Overriding the parameters from Reference Dataset.')\n",
      "\n",
      "c:\\Users\\ucesnjs\\anaconda32\\envs\\lightgbm\\Lib\\site-packages\\lightgbm\\basic.py:1780: UserWarning: Overriding the parameters from Reference Dataset.\n",
      "  _log_warning('Overriding the parameters from Reference Dataset.')\n",
      "\n",
      "c:\\Users\\ucesnjs\\anaconda32\\envs\\lightgbm\\Lib\\site-packages\\lightgbm\\basic.py:1780: UserWarning: Overriding the parameters from Reference Dataset.\n",
      "  _log_warning('Overriding the parameters from Reference Dataset.')\n",
      "\n",
      "c:\\Users\\ucesnjs\\anaconda32\\envs\\lightgbm\\Lib\\site-packages\\lightgbm\\basic.py:1780: UserWarning: Overriding the parameters from Reference Dataset.\n",
      "  _log_warning('Overriding the parameters from Reference Dataset.')\n",
      "\n",
      "c:\\Users\\ucesnjs\\anaconda32\\envs\\lightgbm\\Lib\\site-packages\\lightgbm\\basic.py:1780: UserWarning: Overriding the parameters from Reference Dataset.\n",
      "  _log_warning('Overriding the parameters from Reference Dataset.')\n",
      "\n",
      "c:\\Users\\ucesnjs\\anaconda32\\envs\\lightgbm\\Lib\\site-packages\\lightgbm\\basic.py:1780: UserWarning: Overriding the parameters from Reference Dataset.\n",
      "  _log_warning('Overriding the parameters from Reference Dataset.')\n",
      "\n",
      "c:\\Users\\ucesnjs\\anaconda32\\envs\\lightgbm\\Lib\\site-packages\\lightgbm\\basic.py:1780: UserWarning: Overriding the parameters from Reference Dataset.\n",
      "  _log_warning('Overriding the parameters from Reference Dataset.')\n",
      "\n",
      "c:\\Users\\ucesnjs\\anaconda32\\envs\\lightgbm\\Lib\\site-packages\\lightgbm\\basic.py:1780: UserWarning: Overriding the parameters from Reference Dataset.\n",
      "  _log_warning('Overriding the parameters from Reference Dataset.')\n",
      "\n"
     ]
    },
    {
     "name": "stdout",
     "output_type": "stream",
     "text": [
      "Early stopping at iteration 972, with a best score on test set of 0.6490321117110754, and on train set of 0.6022752400947645\n",
      "Finished loading model, total used 1073 iterations   \n",
      "Finished loading model, total used 159 iterations    \n",
      "Finished loading model, total used 1073 iterations   \n",
      "Finished loading model, total used 103 iterations    \n",
      "Finished loading model, total used 1073 iterations   \n",
      "Finished loading model, total used 166 iterations    \n",
      "Finished loading model, total used 1073 iterations   \n",
      "Finished loading model, total used 225 iterations    \n",
      "  0%|          | 0/1 [00:52<?, ?trial/s, best loss=?]"
     ]
    },
    {
     "name": "stderr",
     "output_type": "stream",
     "text": [
      "c:\\Users\\ucesnjs\\OneDrive - University College London\\Documents\\PhD - UCL\\rumboost\\example\\..\\rumboost\\rumboost.py:825: UserWarning: Found `num_boost_round` in params. Will use it instead of argument\n",
      "  _log_warning(f\"Found `{alias}` in params. Will use it instead of argument\")\n",
      "\n",
      "c:\\Users\\ucesnjs\\anaconda32\\envs\\lightgbm\\Lib\\site-packages\\lightgbm\\basic.py:1780: UserWarning: Overriding the parameters from Reference Dataset.\n",
      "  _log_warning('Overriding the parameters from Reference Dataset.')\n",
      "\n",
      "c:\\Users\\ucesnjs\\anaconda32\\envs\\lightgbm\\Lib\\site-packages\\lightgbm\\basic.py:1780: UserWarning: Overriding the parameters from Reference Dataset.\n",
      "  _log_warning('Overriding the parameters from Reference Dataset.')\n",
      "\n",
      "c:\\Users\\ucesnjs\\anaconda32\\envs\\lightgbm\\Lib\\site-packages\\lightgbm\\basic.py:1780: UserWarning: Overriding the parameters from Reference Dataset.\n",
      "  _log_warning('Overriding the parameters from Reference Dataset.')\n",
      "\n",
      "c:\\Users\\ucesnjs\\anaconda32\\envs\\lightgbm\\Lib\\site-packages\\lightgbm\\basic.py:1780: UserWarning: Overriding the parameters from Reference Dataset.\n",
      "  _log_warning('Overriding the parameters from Reference Dataset.')\n",
      "\n",
      "c:\\Users\\ucesnjs\\anaconda32\\envs\\lightgbm\\Lib\\site-packages\\lightgbm\\basic.py:1780: UserWarning: Overriding the parameters from Reference Dataset.\n",
      "  _log_warning('Overriding the parameters from Reference Dataset.')\n",
      "\n",
      "c:\\Users\\ucesnjs\\anaconda32\\envs\\lightgbm\\Lib\\site-packages\\lightgbm\\basic.py:1780: UserWarning: Overriding the parameters from Reference Dataset.\n",
      "  _log_warning('Overriding the parameters from Reference Dataset.')\n",
      "\n",
      "c:\\Users\\ucesnjs\\anaconda32\\envs\\lightgbm\\Lib\\site-packages\\lightgbm\\basic.py:1780: UserWarning: Overriding the parameters from Reference Dataset.\n",
      "  _log_warning('Overriding the parameters from Reference Dataset.')\n",
      "\n",
      "c:\\Users\\ucesnjs\\anaconda32\\envs\\lightgbm\\Lib\\site-packages\\lightgbm\\basic.py:1780: UserWarning: Overriding the parameters from Reference Dataset.\n",
      "  _log_warning('Overriding the parameters from Reference Dataset.')\n",
      "\n"
     ]
    },
    {
     "name": "stdout",
     "output_type": "stream",
     "text": [
      "Early stopping at iteration 806, with a best score on test set of 0.6515539389129131, and on train set of 0.6028902823256596\n",
      "Finished loading model, total used 907 iterations    \n",
      "Finished loading model, total used 148 iterations    \n",
      "Finished loading model, total used 907 iterations    \n",
      "Finished loading model, total used 92 iterations     \n",
      "Finished loading model, total used 907 iterations    \n",
      "Finished loading model, total used 179 iterations    \n",
      "Finished loading model, total used 907 iterations    \n",
      "Finished loading model, total used 197 iterations    \n",
      "100%|██████████| 1/1 [01:03<00:00, 63.35s/trial, best loss: 0.645342817333636]\n",
      "Best negative CE: 0.645342817333636\n"
     ]
    }
   ],
   "source": [
    "import hyperopt\n",
    "\n",
    "_, _, folds = load_preprocess_LPMC()\n",
    "\n",
    "param_space =  {'learning_rate': hyperopt.hp.choice('learning_rate', [0.1]),\n",
    "                'num_leaves': hyperopt.pyll.scope.int(hyperopt.hp.quniform('num_leaves', 2, 100, 1)),\n",
    "                'min_gain_to_split':  hyperopt.hp.loguniform('min_gain_to_split', -9.21, 1.61), # interval: [0.0001, 5]\n",
    "                'min_sum_hessian_in_leaf': hyperopt.hp.loguniform('min_sum_hessian_in_leaf', 0, 4.6),\n",
    "                'min_data_in_leaf': hyperopt.pyll.scope.int(hyperopt.hp.quniform('min_data_in_leaf', 1, 200, 1)),\n",
    "                'bagging_fraction': hyperopt.hp.uniform('bagging_fraction', 0.5, 1),\n",
    "                'bagging_freq': hyperopt.hp.choice('bagging_freq', [0, 1, 5, 10]),\n",
    "                'feature_fraction': hyperopt.hp.uniform('feature_fraction', 0.5, 1),\n",
    "                'lambda_l1': hyperopt.hp.loguniform('lambda_l1', -9.21, 2.30), # interval: [0.0001, 10]\n",
    "                'lambda_l2': hyperopt.hp.loguniform('lambda_l2', -9.21, 2.30), # interval: [0.0001, 10]\n",
    "                'max_bin': hyperopt.pyll.scope.int(hyperopt.hp.quniform('max_bin', 100, 500, 1))\n",
    "                            }\n",
    "\n",
    "STATIC_PARAMS = {'n_jobs': -1,\n",
    "                'num_classes':4,\n",
    "                'objective':'multiclass',\n",
    "                'boosting': 'gbdt',\n",
    "                'monotone_constraints_method': 'advanced',\n",
    "                'verbosity': -1,\n",
    "                'early_stopping_round':100,\n",
    "                'num_iterations': 3000\n",
    "                }\n",
    "\n",
    "#features and label column names\n",
    "features = [f for f in LPMC_train.columns if f != \"choice\"]\n",
    "label = \"choice\"\n",
    "\n",
    "#create lightgbm dataset\n",
    "lgb_train_set = lightgbm.Dataset(LPMC_train[features], label=LPMC_train[label], free_raw_data=False)\n",
    "lgb_test_set = lightgbm.Dataset(LPMC_test[features], label=LPMC_test[label], free_raw_data=False)\n",
    "\n",
    "def objective(space):\n",
    "    \n",
    "    params = {'verbosity': -1,\n",
    "    'num_classes':4,\n",
    "    'early_stopping_round':100,\n",
    "    'learning_rate': space['learning_rate'],\n",
    "    'max_depth': 1,\n",
    "    #'num_leaves':31,\n",
    "    'num_boost_round': 3000,\n",
    "    'objective':'multiclass',\n",
    "    'boosting': 'gbdt',\n",
    "    'monotone_constraints_method': 'advanced'}\n",
    "    params_fe = {**space, **STATIC_PARAMS}\n",
    "\n",
    "        # Applying k-Fold Cross Validation\n",
    "    loss = 0\n",
    "    N_sum = 0\n",
    "\n",
    "    for train_idx, test_idx in folds:\n",
    "        # Obtain training and testing data for this iteration (split of de k-Fold)\n",
    "        train_set = lgb_train_set.subset(sorted(train_idx))\n",
    "        test_set = lgb_train_set.subset(sorted(test_idx))\n",
    "\n",
    "        clf_trained = rum_train(params, train_set, rum_structure, valid_sets=[test_set], params_fe=params_fe)\n",
    "\n",
    "        proba = clf_trained.predict(test_set)\n",
    "\n",
    "        # Cross-Entropy Loss\n",
    "        sum = 0\n",
    "        i = 0\n",
    "        for sel_mode in test_set.get_label():\n",
    "            sum = sum + np.log(proba[i,int(sel_mode)])\n",
    "            i += 1\n",
    "        N = i - 1\n",
    "        loss += -sum  # Original: (-sum/N) * N\n",
    "        N_sum += N\n",
    "\n",
    "    loss = loss / N_sum\n",
    "    return {'loss': loss, 'status': hyperopt.STATUS_OK, 'best_iteration': clf_trained.best_iteration}\n",
    "\n",
    "\n",
    "#%%\n",
    "#n_iter = 100\n",
    "n_iter = 1\n",
    "# Read a previous adjusted-hyperparameters datafile or create a new one\n",
    "\n",
    "trials = hyperopt.Trials()\n",
    "best_classifier = hyperopt.fmin(fn=objective,\n",
    "                                space=param_space,\n",
    "                                algo=hyperopt.tpe.suggest,\n",
    "                                max_evals=n_iter,\n",
    "                                trials=trials)\n",
    "\n",
    "print(f'Best negative CE: {trials.best_trial[\"result\"][\"loss\"]}')\n"
   ]
  },
  {
   "cell_type": "markdown",
   "metadata": {},
   "source": [
    "### Cross-validation with already computed optimal hyperparameters\n",
    "\n",
    "Now that we have the optimal hyperparameters (taken from a previous run), we can run CV to obtain the optimal number of trees."
   ]
  },
  {
   "cell_type": "code",
   "execution_count": null,
   "metadata": {},
   "outputs": [
    {
     "name": "stdout",
     "output_type": "stream",
     "text": [
      "--------------------------------------------------\n",
      "\n",
      "Iteration 1\n"
     ]
    },
    {
     "name": "stderr",
     "output_type": "stream",
     "text": [
      "c:\\Users\\ucesnjs\\OneDrive - University College London\\Documents\\PhD - UCL\\rumboost\\example\\..\\rumboost\\rumboost.py:825: UserWarning: Found `num_iterations` in params. Will use it instead of argument\n",
      "  _log_warning(f\"Found `{alias}` in params. Will use it instead of argument\")\n",
      "c:\\Users\\ucesnjs\\anaconda32\\envs\\lightgbm\\Lib\\site-packages\\lightgbm\\basic.py:1780: UserWarning: Overriding the parameters from Reference Dataset.\n",
      "  _log_warning('Overriding the parameters from Reference Dataset.')\n",
      "c:\\Users\\ucesnjs\\anaconda32\\envs\\lightgbm\\Lib\\site-packages\\lightgbm\\basic.py:1780: UserWarning: Overriding the parameters from Reference Dataset.\n",
      "  _log_warning('Overriding the parameters from Reference Dataset.')\n",
      "c:\\Users\\ucesnjs\\anaconda32\\envs\\lightgbm\\Lib\\site-packages\\lightgbm\\basic.py:1780: UserWarning: Overriding the parameters from Reference Dataset.\n",
      "  _log_warning('Overriding the parameters from Reference Dataset.')\n",
      "c:\\Users\\ucesnjs\\anaconda32\\envs\\lightgbm\\Lib\\site-packages\\lightgbm\\basic.py:1780: UserWarning: Overriding the parameters from Reference Dataset.\n",
      "  _log_warning('Overriding the parameters from Reference Dataset.')\n",
      "c:\\Users\\ucesnjs\\anaconda32\\envs\\lightgbm\\Lib\\site-packages\\lightgbm\\basic.py:1780: UserWarning: Overriding the parameters from Reference Dataset.\n",
      "  _log_warning('Overriding the parameters from Reference Dataset.')\n",
      "c:\\Users\\ucesnjs\\anaconda32\\envs\\lightgbm\\Lib\\site-packages\\lightgbm\\basic.py:1780: UserWarning: Overriding the parameters from Reference Dataset.\n",
      "  _log_warning('Overriding the parameters from Reference Dataset.')\n",
      "c:\\Users\\ucesnjs\\anaconda32\\envs\\lightgbm\\Lib\\site-packages\\lightgbm\\basic.py:1780: UserWarning: Overriding the parameters from Reference Dataset.\n",
      "  _log_warning('Overriding the parameters from Reference Dataset.')\n",
      "c:\\Users\\ucesnjs\\anaconda32\\envs\\lightgbm\\Lib\\site-packages\\lightgbm\\basic.py:1780: UserWarning: Overriding the parameters from Reference Dataset.\n",
      "  _log_warning('Overriding the parameters from Reference Dataset.')\n"
     ]
    },
    {
     "name": "stdout",
     "output_type": "stream",
     "text": [
      "Early stopping at iteration 926, with a best score on test set of 0.6446090721289347, and on train set of 0.6068617625947127\n",
      "Finished loading model, total used 1027 iterations\n",
      "Finished loading model, total used 155 iterations\n",
      "Finished loading model, total used 1027 iterations\n",
      "Finished loading model, total used 106 iterations\n",
      "Finished loading model, total used 1027 iterations\n",
      "Finished loading model, total used 243 iterations\n",
      "Finished loading model, total used 1027 iterations\n",
      "Finished loading model, total used 222 iterations\n",
      "--------------------------------------------------\n",
      "\n",
      "Best cross entropy loss: 0.6446090721289347\n",
      "Best number of trees: 926\n",
      "--------------------------------------------------\n",
      "\n",
      "Iteration 2\n"
     ]
    },
    {
     "name": "stderr",
     "output_type": "stream",
     "text": [
      "c:\\Users\\ucesnjs\\OneDrive - University College London\\Documents\\PhD - UCL\\rumboost\\example\\..\\rumboost\\rumboost.py:825: UserWarning: Found `num_iterations` in params. Will use it instead of argument\n",
      "  _log_warning(f\"Found `{alias}` in params. Will use it instead of argument\")\n",
      "c:\\Users\\ucesnjs\\anaconda32\\envs\\lightgbm\\Lib\\site-packages\\lightgbm\\basic.py:1780: UserWarning: Overriding the parameters from Reference Dataset.\n",
      "  _log_warning('Overriding the parameters from Reference Dataset.')\n",
      "c:\\Users\\ucesnjs\\anaconda32\\envs\\lightgbm\\Lib\\site-packages\\lightgbm\\basic.py:1780: UserWarning: Overriding the parameters from Reference Dataset.\n",
      "  _log_warning('Overriding the parameters from Reference Dataset.')\n",
      "c:\\Users\\ucesnjs\\anaconda32\\envs\\lightgbm\\Lib\\site-packages\\lightgbm\\basic.py:1780: UserWarning: Overriding the parameters from Reference Dataset.\n",
      "  _log_warning('Overriding the parameters from Reference Dataset.')\n",
      "c:\\Users\\ucesnjs\\anaconda32\\envs\\lightgbm\\Lib\\site-packages\\lightgbm\\basic.py:1780: UserWarning: Overriding the parameters from Reference Dataset.\n",
      "  _log_warning('Overriding the parameters from Reference Dataset.')\n",
      "c:\\Users\\ucesnjs\\anaconda32\\envs\\lightgbm\\Lib\\site-packages\\lightgbm\\basic.py:1780: UserWarning: Overriding the parameters from Reference Dataset.\n",
      "  _log_warning('Overriding the parameters from Reference Dataset.')\n",
      "c:\\Users\\ucesnjs\\anaconda32\\envs\\lightgbm\\Lib\\site-packages\\lightgbm\\basic.py:1780: UserWarning: Overriding the parameters from Reference Dataset.\n",
      "  _log_warning('Overriding the parameters from Reference Dataset.')\n",
      "c:\\Users\\ucesnjs\\anaconda32\\envs\\lightgbm\\Lib\\site-packages\\lightgbm\\basic.py:1780: UserWarning: Overriding the parameters from Reference Dataset.\n",
      "  _log_warning('Overriding the parameters from Reference Dataset.')\n",
      "c:\\Users\\ucesnjs\\anaconda32\\envs\\lightgbm\\Lib\\site-packages\\lightgbm\\basic.py:1780: UserWarning: Overriding the parameters from Reference Dataset.\n",
      "  _log_warning('Overriding the parameters from Reference Dataset.')\n"
     ]
    },
    {
     "name": "stdout",
     "output_type": "stream",
     "text": [
      "Early stopping at iteration 854, with a best score on test set of 0.6255357296736198, and on train set of 0.6111764925779694\n",
      "Finished loading model, total used 955 iterations\n",
      "Finished loading model, total used 164 iterations\n",
      "Finished loading model, total used 955 iterations\n",
      "Finished loading model, total used 89 iterations\n",
      "Finished loading model, total used 955 iterations\n",
      "Finished loading model, total used 258 iterations\n",
      "Finished loading model, total used 955 iterations\n",
      "Finished loading model, total used 182 iterations\n",
      "--------------------------------------------------\n",
      "\n",
      "Best cross entropy loss: 0.6255357296736198\n",
      "Best number of trees: 854\n",
      "--------------------------------------------------\n",
      "\n",
      "Iteration 3\n"
     ]
    },
    {
     "name": "stderr",
     "output_type": "stream",
     "text": [
      "c:\\Users\\ucesnjs\\OneDrive - University College London\\Documents\\PhD - UCL\\rumboost\\example\\..\\rumboost\\rumboost.py:825: UserWarning: Found `num_iterations` in params. Will use it instead of argument\n",
      "  _log_warning(f\"Found `{alias}` in params. Will use it instead of argument\")\n",
      "c:\\Users\\ucesnjs\\anaconda32\\envs\\lightgbm\\Lib\\site-packages\\lightgbm\\basic.py:1780: UserWarning: Overriding the parameters from Reference Dataset.\n",
      "  _log_warning('Overriding the parameters from Reference Dataset.')\n",
      "c:\\Users\\ucesnjs\\anaconda32\\envs\\lightgbm\\Lib\\site-packages\\lightgbm\\basic.py:1780: UserWarning: Overriding the parameters from Reference Dataset.\n",
      "  _log_warning('Overriding the parameters from Reference Dataset.')\n",
      "c:\\Users\\ucesnjs\\anaconda32\\envs\\lightgbm\\Lib\\site-packages\\lightgbm\\basic.py:1780: UserWarning: Overriding the parameters from Reference Dataset.\n",
      "  _log_warning('Overriding the parameters from Reference Dataset.')\n",
      "c:\\Users\\ucesnjs\\anaconda32\\envs\\lightgbm\\Lib\\site-packages\\lightgbm\\basic.py:1780: UserWarning: Overriding the parameters from Reference Dataset.\n",
      "  _log_warning('Overriding the parameters from Reference Dataset.')\n",
      "c:\\Users\\ucesnjs\\anaconda32\\envs\\lightgbm\\Lib\\site-packages\\lightgbm\\basic.py:1780: UserWarning: Overriding the parameters from Reference Dataset.\n",
      "  _log_warning('Overriding the parameters from Reference Dataset.')\n",
      "c:\\Users\\ucesnjs\\anaconda32\\envs\\lightgbm\\Lib\\site-packages\\lightgbm\\basic.py:1780: UserWarning: Overriding the parameters from Reference Dataset.\n",
      "  _log_warning('Overriding the parameters from Reference Dataset.')\n",
      "c:\\Users\\ucesnjs\\anaconda32\\envs\\lightgbm\\Lib\\site-packages\\lightgbm\\basic.py:1780: UserWarning: Overriding the parameters from Reference Dataset.\n",
      "  _log_warning('Overriding the parameters from Reference Dataset.')\n",
      "c:\\Users\\ucesnjs\\anaconda32\\envs\\lightgbm\\Lib\\site-packages\\lightgbm\\basic.py:1780: UserWarning: Overriding the parameters from Reference Dataset.\n",
      "  _log_warning('Overriding the parameters from Reference Dataset.')\n"
     ]
    },
    {
     "name": "stdout",
     "output_type": "stream",
     "text": [
      "Early stopping at iteration 771, with a best score on test set of 0.6477513809305059, and on train set of 0.6043210880579042\n",
      "Finished loading model, total used 872 iterations\n",
      "Finished loading model, total used 199 iterations\n",
      "Finished loading model, total used 872 iterations\n",
      "Finished loading model, total used 107 iterations\n",
      "Finished loading model, total used 872 iterations\n",
      "Finished loading model, total used 229 iterations\n",
      "Finished loading model, total used 872 iterations\n",
      "Finished loading model, total used 179 iterations\n",
      "--------------------------------------------------\n",
      "\n",
      "Best cross entropy loss: 0.6477513809305059\n",
      "Best number of trees: 771\n",
      "--------------------------------------------------\n",
      "\n",
      "Iteration 4\n"
     ]
    },
    {
     "name": "stderr",
     "output_type": "stream",
     "text": [
      "c:\\Users\\ucesnjs\\OneDrive - University College London\\Documents\\PhD - UCL\\rumboost\\example\\..\\rumboost\\rumboost.py:825: UserWarning: Found `num_iterations` in params. Will use it instead of argument\n",
      "  _log_warning(f\"Found `{alias}` in params. Will use it instead of argument\")\n",
      "c:\\Users\\ucesnjs\\anaconda32\\envs\\lightgbm\\Lib\\site-packages\\lightgbm\\basic.py:1780: UserWarning: Overriding the parameters from Reference Dataset.\n",
      "  _log_warning('Overriding the parameters from Reference Dataset.')\n",
      "c:\\Users\\ucesnjs\\anaconda32\\envs\\lightgbm\\Lib\\site-packages\\lightgbm\\basic.py:1780: UserWarning: Overriding the parameters from Reference Dataset.\n",
      "  _log_warning('Overriding the parameters from Reference Dataset.')\n",
      "c:\\Users\\ucesnjs\\anaconda32\\envs\\lightgbm\\Lib\\site-packages\\lightgbm\\basic.py:1780: UserWarning: Overriding the parameters from Reference Dataset.\n",
      "  _log_warning('Overriding the parameters from Reference Dataset.')\n",
      "c:\\Users\\ucesnjs\\anaconda32\\envs\\lightgbm\\Lib\\site-packages\\lightgbm\\basic.py:1780: UserWarning: Overriding the parameters from Reference Dataset.\n",
      "  _log_warning('Overriding the parameters from Reference Dataset.')\n",
      "c:\\Users\\ucesnjs\\anaconda32\\envs\\lightgbm\\Lib\\site-packages\\lightgbm\\basic.py:1780: UserWarning: Overriding the parameters from Reference Dataset.\n",
      "  _log_warning('Overriding the parameters from Reference Dataset.')\n",
      "c:\\Users\\ucesnjs\\anaconda32\\envs\\lightgbm\\Lib\\site-packages\\lightgbm\\basic.py:1780: UserWarning: Overriding the parameters from Reference Dataset.\n",
      "  _log_warning('Overriding the parameters from Reference Dataset.')\n",
      "c:\\Users\\ucesnjs\\anaconda32\\envs\\lightgbm\\Lib\\site-packages\\lightgbm\\basic.py:1780: UserWarning: Overriding the parameters from Reference Dataset.\n",
      "  _log_warning('Overriding the parameters from Reference Dataset.')\n",
      "c:\\Users\\ucesnjs\\anaconda32\\envs\\lightgbm\\Lib\\site-packages\\lightgbm\\basic.py:1780: UserWarning: Overriding the parameters from Reference Dataset.\n",
      "  _log_warning('Overriding the parameters from Reference Dataset.')\n"
     ]
    },
    {
     "name": "stdout",
     "output_type": "stream",
     "text": [
      "Early stopping at iteration 1774, with a best score on test set of 0.6463650094840885, and on train set of 0.6032431086985517\n",
      "Finished loading model, total used 1875 iterations\n",
      "Finished loading model, total used 207 iterations\n",
      "Finished loading model, total used 1875 iterations\n",
      "Finished loading model, total used 139 iterations\n",
      "Finished loading model, total used 1875 iterations\n",
      "Finished loading model, total used 218 iterations\n",
      "Finished loading model, total used 1875 iterations\n",
      "Finished loading model, total used 252 iterations\n",
      "--------------------------------------------------\n",
      "\n",
      "Best cross entropy loss: 0.6463650094840885\n",
      "Best number of trees: 1774\n",
      "--------------------------------------------------\n",
      "\n",
      "Iteration 5\n"
     ]
    },
    {
     "name": "stderr",
     "output_type": "stream",
     "text": [
      "c:\\Users\\ucesnjs\\OneDrive - University College London\\Documents\\PhD - UCL\\rumboost\\example\\..\\rumboost\\rumboost.py:825: UserWarning: Found `num_iterations` in params. Will use it instead of argument\n",
      "  _log_warning(f\"Found `{alias}` in params. Will use it instead of argument\")\n",
      "c:\\Users\\ucesnjs\\anaconda32\\envs\\lightgbm\\Lib\\site-packages\\lightgbm\\basic.py:1780: UserWarning: Overriding the parameters from Reference Dataset.\n",
      "  _log_warning('Overriding the parameters from Reference Dataset.')\n",
      "c:\\Users\\ucesnjs\\anaconda32\\envs\\lightgbm\\Lib\\site-packages\\lightgbm\\basic.py:1780: UserWarning: Overriding the parameters from Reference Dataset.\n",
      "  _log_warning('Overriding the parameters from Reference Dataset.')\n",
      "c:\\Users\\ucesnjs\\anaconda32\\envs\\lightgbm\\Lib\\site-packages\\lightgbm\\basic.py:1780: UserWarning: Overriding the parameters from Reference Dataset.\n",
      "  _log_warning('Overriding the parameters from Reference Dataset.')\n",
      "c:\\Users\\ucesnjs\\anaconda32\\envs\\lightgbm\\Lib\\site-packages\\lightgbm\\basic.py:1780: UserWarning: Overriding the parameters from Reference Dataset.\n",
      "  _log_warning('Overriding the parameters from Reference Dataset.')\n",
      "c:\\Users\\ucesnjs\\anaconda32\\envs\\lightgbm\\Lib\\site-packages\\lightgbm\\basic.py:1780: UserWarning: Overriding the parameters from Reference Dataset.\n",
      "  _log_warning('Overriding the parameters from Reference Dataset.')\n",
      "c:\\Users\\ucesnjs\\anaconda32\\envs\\lightgbm\\Lib\\site-packages\\lightgbm\\basic.py:1780: UserWarning: Overriding the parameters from Reference Dataset.\n",
      "  _log_warning('Overriding the parameters from Reference Dataset.')\n",
      "c:\\Users\\ucesnjs\\anaconda32\\envs\\lightgbm\\Lib\\site-packages\\lightgbm\\basic.py:1780: UserWarning: Overriding the parameters from Reference Dataset.\n",
      "  _log_warning('Overriding the parameters from Reference Dataset.')\n",
      "c:\\Users\\ucesnjs\\anaconda32\\envs\\lightgbm\\Lib\\site-packages\\lightgbm\\basic.py:1780: UserWarning: Overriding the parameters from Reference Dataset.\n",
      "  _log_warning('Overriding the parameters from Reference Dataset.')\n"
     ]
    },
    {
     "name": "stdout",
     "output_type": "stream",
     "text": [
      "Early stopping at iteration 558, with a best score on test set of 0.6490161142689254, and on train set of 0.6070754687880728\n",
      "Finished loading model, total used 659 iterations\n",
      "Finished loading model, total used 194 iterations\n",
      "Finished loading model, total used 659 iterations\n",
      "Finished loading model, total used 97 iterations\n",
      "Finished loading model, total used 659 iterations\n",
      "Finished loading model, total used 231 iterations\n",
      "Finished loading model, total used 659 iterations\n",
      "Finished loading model, total used 193 iterations\n",
      "--------------------------------------------------\n",
      "\n",
      "Best cross entropy loss: 0.6490161142689254\n",
      "Best number of trees: 558\n",
      "--------------------------------------------------\n",
      "\n",
      "Cross validation negative cross entropy loss: 0.6426554612972148\n",
      "With a number of trees on average of 976.6\n"
     ]
    }
   ],
   "source": [
    "_, _, folds = load_preprocess_LPMC()\n",
    "params = {'n_jobs': -1,\n",
    "          'num_classes':4,\n",
    "          'objective':'multiclass',\n",
    "          'boosting': 'gbdt',\n",
    "          'monotone_constraints_method': 'advanced',\n",
    "          'verbosity': -1,\n",
    "          'num_iterations':3000,\n",
    "          'early_stopping_round':100,\n",
    "          'learning_rate':0.1,\n",
    "          'max_depth':1\n",
    "          }\n",
    "\n",
    "optimal_params_fe = {'learning_rate':0.1,\n",
    "                'num_leaves': 74,\n",
    "                'min_gain_to_split': 0.8003177141507178,\n",
    "                'min_sum_hessian_in_leaf': 1.7832435538908582,\n",
    "                'min_data_in_leaf': 27,\n",
    "                'bagging_fraction': 0.7002428082063967,\n",
    "                'bagging_freq': 10,\n",
    "                'feature_fraction': 0.8666540515437967,\n",
    "                'lambda_l1': 6.591757385667399,\n",
    "                'lambda_l2': 1.027567442472481,\n",
    "                'max_bin': 131\n",
    "                            }\n",
    "\n",
    "ce_loss = 0\n",
    "num_trees = 0\n",
    "\n",
    "for i, (train_idx, test_idx) in enumerate(folds):\n",
    "    #train and validation set\n",
    "    train_set = lgb_train_set.subset(sorted(train_idx))\n",
    "    test_set = lgb_train_set.subset(sorted(test_idx))\n",
    "\n",
    "    #deep copy of params\n",
    "    param = copy.deepcopy(params)\n",
    "\n",
    "    print('-'*50 + '\\n')\n",
    "    print(f'Iteration {i+1}')\n",
    "\n",
    "    #train model with functional effect parameters\n",
    "    LPMC_model_trained = rum_train(param,train_set,rum_structure=rum_structure, valid_sets = [test_set], params_fe=optimal_params_fe)\n",
    "\n",
    "    #aggregate results\n",
    "    ce_loss += LPMC_model_trained.best_score\n",
    "    num_trees += LPMC_model_trained.best_iteration\n",
    "    \n",
    "    print('-'*50 + '\\n')\n",
    "    print(f'Best cross entropy loss: {LPMC_model_trained.best_score}')\n",
    "    print(f'Best number of trees: {LPMC_model_trained.best_iteration}')\n",
    "\n",
    "ce_loss = ce_loss/5\n",
    "num_trees = num_trees/5\n",
    "print('-'*50 + '\\n')\n",
    "print(f'Cross validation negative cross entropy loss: {ce_loss}')\n",
    "print(f'With a number of trees on average of {num_trees}')"
   ]
  },
  {
   "cell_type": "markdown",
   "metadata": {},
   "source": [
    "### Testing the model on out-of-sample data\n",
    "\n",
    "Now that we have the optimal number of trees (977), we can train the final version of the model on the full dataset, and test it on out-of-sample data with the ```predict()``` function. Note that the dataset must be a lightgbm object in the ```predict()``` function."
   ]
  },
  {
   "cell_type": "code",
   "execution_count": null,
   "metadata": {},
   "outputs": [
    {
     "name": "stderr",
     "output_type": "stream",
     "text": [
      "c:\\Users\\ucesnjs\\OneDrive - University College London\\Documents\\PhD - UCL\\rumboost\\example\\..\\rumboost\\rumboost.py:825: UserWarning: Found `num_iterations` in params. Will use it instead of argument\n",
      "  _log_warning(f\"Found `{alias}` in params. Will use it instead of argument\")\n"
     ]
    },
    {
     "name": "stdout",
     "output_type": "stream",
     "text": [
      "Finished loading model, total used 977 iterations\n",
      "Finished loading model, total used 133 iterations\n",
      "Finished loading model, total used 977 iterations\n",
      "Finished loading model, total used 86 iterations\n",
      "Finished loading model, total used 977 iterations\n",
      "Finished loading model, total used 288 iterations\n",
      "Finished loading model, total used 977 iterations\n",
      "Finished loading model, total used 308 iterations\n",
      "--------------------------------------------------\n",
      "Final negative cross-entropy on the test set: 0.6620119239324455\n"
     ]
    }
   ],
   "source": [
    "rum_structure = bio_to_rumboost(LPMC_model, fct_effect_variables=fct_effect_variables)\n",
    "params = {'n_jobs': -1,\n",
    "          'num_classes':4,\n",
    "          'objective':'multiclass',\n",
    "          'boosting': 'gbdt',\n",
    "          'monotone_constraints_method': 'advanced',\n",
    "          'verbosity': -1,\n",
    "          'num_iterations':977,\n",
    "          #'early_stopping_round':100,\n",
    "          'learning_rate':0.1,\n",
    "          'max_depth':1\n",
    "          }\n",
    "\n",
    "LPMCFE_model_fully_trained = rum_train(params, lgb_train_set, rum_structure, params_fe=optimal_params_fe)\n",
    "\n",
    "preds = LPMCFE_model_fully_trained.predict(lgb_test_set)\n",
    "\n",
    "ce_test = cross_entropy(preds, lgb_test_set.get_label().astype(int))\n",
    "\n",
    "print('-'*50)\n",
    "print(f'Final negative cross-entropy on the test set: {ce_test}')"
   ]
  },
  {
   "cell_type": "markdown",
   "metadata": {},
   "source": [
    "### Separation of the two models, and individual-specific constant\n",
    "\n",
    "We can retrieve the two part of the model with the ```split_fe_model()``` function and plot the individual-specific constant resulting of the full interaction of the socio-economic characteristics with the function ```plot_ind_spec_constant()```. The attribute part can be used to plot the attribute utility just like in a classic RUMBoost model, and can be smoothed and lead to VoT."
   ]
  },
  {
   "cell_type": "code",
   "execution_count": null,
   "metadata": {},
   "outputs": [],
   "source": [
    "attributes_model, socec_model = split_fe_model(LPMCFE_model_fully_trained)"
   ]
  },
  {
   "cell_type": "code",
   "execution_count": null,
   "metadata": {},
   "outputs": [
    {
     "data": {
      "image/png": "[encoded data removed]",
      "text/plain": [
       "<Figure size 1200x1000 with 4 Axes>"
      ]
     },
     "metadata": {},
     "output_type": "display_data"
    }
   ],
   "source": [
    "plot_ind_spec_constant(socec_model, lgb_train_set, ['Walking', 'Cycling', 'PT', 'Driving'])"
   ]
  },
  {
   "cell_type": "markdown",
   "metadata": {},
   "source": [
    "# References\n",
    "\n",
    "Salvadé, Nicolas and Hillel, Tim, Rumboost: Gradient Boosted Random Utility Models. Available at SSRN: https://ssrn.com/abstract=4701222 or http://dx.doi.org/10.2139/ssrn.4701222\n",
    "\n",
    "Hillel, T., Elshafie, M.Z.E.B., Jin, Y., 2018. Recreating passenger mode choice-sets for transport simulation: A case study of London, UK. Proceedings of the Institution of Civil Engineers - Smart Infrastructure and Construction 171, 29–42. https://doi.org/10.1680/jsmic.17.00018"
   ]
  }
 ],
 "metadata": {
  "language_info": {
   "name": "python"
  }
 },
 "nbformat": 4,
 "nbformat_minor": 2
}
