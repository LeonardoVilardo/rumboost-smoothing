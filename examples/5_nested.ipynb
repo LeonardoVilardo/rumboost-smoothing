{
 "cells": [
  {
   "cell_type": "code",
   "execution_count": null,
   "metadata": {},
   "outputs": [],
   "source": [
    "import sys\n",
    "\n",
    "sys.path.append(\"../\")"
   ]
  },
  {
   "cell_type": "code",
   "execution_count": null,
   "metadata": {},
   "outputs": [],
   "source": [
    "%load_ext autoreload\n",
    "%autoreload 2"
   ]
  },
  {
   "cell_type": "code",
   "execution_count": null,
   "metadata": {},
   "outputs": [],
   "source": [
    "from rumboost.rumboost import rum_train\n",
    "from rumboost.datasets import load_preprocess_LPMC\n",
    "from rumboost.metrics import cross_entropy\n",
    "\n",
    "import lightgbm"
   ]
  },
  {
   "cell_type": "markdown",
   "metadata": {},
   "source": [
    "# Example: Nested logit model (correlation amongst alternatives)\n",
    "\n",
    "This notebook shows features implemented in RUMBoost through an example on the LPMC dataset, a mode choice dataset in London developed Hillel et al. (2018). You can find the original source of data [here](https://www.icevirtuallibrary.com/doi/suppl/10.1680/jsmic.17.00018) and the original paper [here](https://www.icevirtuallibrary.com/doi/full/10.1680/jsmic.17.00018).\n",
    "\n",
    "We first load the preprocessed dataset and its folds for cross-validation. You can find the data under the Data folder"
   ]
  },
  {
   "cell_type": "code",
   "execution_count": 3,
   "metadata": {},
   "outputs": [],
   "source": [
    "#load dataset\n",
    "LPMC_train, LPMC_test, folds = load_preprocess_LPMC()"
   ]
  },
  {
   "cell_type": "markdown",
   "metadata": {},
   "source": [
    "## Nested Logit model\n",
    "\n",
    "We relax the assumption that the error term is distributed i.i.d.. If we assume that alternatives are correlated, we obtain a nested logit-like model. Nested logit probabilities are implemented in RUMBoost. The additional parameter, the scale of a nest $\\mu$, can be estimated with two ways:\n",
    "1. by a hyperparameter search\n",
    "2. optimised within the trianing loop\n",
    "\n",
    "Training a nested logit-like rumboost model requires an additional dictionary in the model specification dictionary. The nested logit disctionary follows the following form:\n",
    "\n",
    "- ```mu```: a list containing the values (as float) of mu for each nest, e.g. ```[mu_nest_0, mu_nest_1]```\n",
    "- ```nests```: a dictionary representing the nesting structure. Keys are the nests id, and values are the the list of alternatives in the corresponding nest. For example {0: [0, 1], 1: [2, 3]} means that alternative 0 and 1 are in nest 0, and alternative 2 and 3 are in nest 1.\n",
    "- `optimise_mu`: a boolean or list of boolean. If it is a simple boolean and True, all mu values are found through scipy.minimize. If it is a list of boolean, it should be the same size than `mu` and it represents which value should be optimised or not.\n",
    "  \n",
    "In this example, we assume that PT and car are in a 'motorised' nest, while the walking and cycling alternative are in their own nests."
   ]
  },
  {
   "cell_type": "markdown",
   "metadata": {},
   "source": [
    "### $\\mu$ hyperparameter search\n",
    "\n",
    "We treat $\\mu$ as a hyperparameter. We use hyperopt to find the optimal value of the hyperparameter. More details on how to use hyperopt [here](https://hyperopt.github.io/hyperopt/).\n",
    "\n",
    "Note that for computational purposes, we show here a hyperparameter search for one iteration. As an example, we ran 25 iterations to obtain the results of the paper."
   ]
  },
  {
   "cell_type": "code",
   "execution_count": 4,
   "metadata": {},
   "outputs": [
    {
     "name": "stdout",
     "output_type": "stream",
     "text": [
      "  0%|          | 0/1 [00:00<?, ?trial/s, best loss=?]"
     ]
    },
    {
     "name": "stderr",
     "output_type": "stream",
     "text": [
      "c:\\Users\\DAF1\\anaconda3\\anaconda3\\envs\\RUMBooster\\Lib\\site-packages\\rumboost\\rumboost.py:825: UserWarning: Found `num_iterations` in params. Will use it instead of argument\n",
      "  _log_warning(f\"Found `{alias}` in params. Will use it instead of argument\")\n",
      "\n",
      "c:\\Users\\DAF1\\anaconda3\\anaconda3\\envs\\RUMBooster\\Lib\\site-packages\\lightgbm\\basic.py:1780: UserWarning: Overriding the parameters from Reference Dataset.\n",
      "  _log_warning('Overriding the parameters from Reference Dataset.')\n",
      "\n",
      "c:\\Users\\DAF1\\anaconda3\\anaconda3\\envs\\RUMBooster\\Lib\\site-packages\\lightgbm\\basic.py:1780: UserWarning: Overriding the parameters from Reference Dataset.\n",
      "  _log_warning('Overriding the parameters from Reference Dataset.')\n",
      "\n",
      "c:\\Users\\DAF1\\anaconda3\\anaconda3\\envs\\RUMBooster\\Lib\\site-packages\\lightgbm\\basic.py:1780: UserWarning: Overriding the parameters from Reference Dataset.\n",
      "  _log_warning('Overriding the parameters from Reference Dataset.')\n",
      "\n",
      "c:\\Users\\DAF1\\anaconda3\\anaconda3\\envs\\RUMBooster\\Lib\\site-packages\\lightgbm\\basic.py:1780: UserWarning: Overriding the parameters from Reference Dataset.\n",
      "  _log_warning('Overriding the parameters from Reference Dataset.')\n",
      "\n",
      "c:\\Users\\DAF1\\anaconda3\\anaconda3\\envs\\RUMBooster\\Lib\\site-packages\\lightgbm\\basic.py:1780: UserWarning: Overriding the parameters from Reference Dataset.\n",
      "  _log_warning('Overriding the parameters from Reference Dataset.')\n",
      "\n"
     ]
    },
    {
     "name": "stdout",
     "output_type": "stream",
     "text": [
      "Early stopping at iteration 1490, with a best score on test set of 0.6547736833551879, and on train set of 0.6386020669332474\n",
      "Finished loading model, total used 1591 iterations   \n",
      "Finished loading model, total used 1591 iterations   \n",
      "Finished loading model, total used 1591 iterations   \n",
      "Finished loading model, total used 1591 iterations   \n",
      "  0%|          | 0/1 [00:50<?, ?trial/s, best loss=?]"
     ]
    },
    {
     "name": "stderr",
     "output_type": "stream",
     "text": [
      "c:\\Users\\DAF1\\anaconda3\\anaconda3\\envs\\RUMBooster\\Lib\\site-packages\\rumboost\\rumboost.py:825: UserWarning: Found `num_iterations` in params. Will use it instead of argument\n",
      "  _log_warning(f\"Found `{alias}` in params. Will use it instead of argument\")\n",
      "\n",
      "c:\\Users\\DAF1\\anaconda3\\anaconda3\\envs\\RUMBooster\\Lib\\site-packages\\lightgbm\\basic.py:1780: UserWarning: Overriding the parameters from Reference Dataset.\n",
      "  _log_warning('Overriding the parameters from Reference Dataset.')\n",
      "\n",
      "c:\\Users\\DAF1\\anaconda3\\anaconda3\\envs\\RUMBooster\\Lib\\site-packages\\lightgbm\\basic.py:1780: UserWarning: Overriding the parameters from Reference Dataset.\n",
      "  _log_warning('Overriding the parameters from Reference Dataset.')\n",
      "\n",
      "c:\\Users\\DAF1\\anaconda3\\anaconda3\\envs\\RUMBooster\\Lib\\site-packages\\lightgbm\\basic.py:1780: UserWarning: Overriding the parameters from Reference Dataset.\n",
      "  _log_warning('Overriding the parameters from Reference Dataset.')\n",
      "\n",
      "c:\\Users\\DAF1\\anaconda3\\anaconda3\\envs\\RUMBooster\\Lib\\site-packages\\lightgbm\\basic.py:1780: UserWarning: Overriding the parameters from Reference Dataset.\n",
      "  _log_warning('Overriding the parameters from Reference Dataset.')\n",
      "\n"
     ]
    },
    {
     "name": "stdout",
     "output_type": "stream",
     "text": [
      "Early stopping at iteration 1485, with a best score on test set of 0.641589520650019, and on train set of 0.6414858373312715\n",
      "Finished loading model, total used 1586 iterations   \n",
      "Finished loading model, total used 1586 iterations   \n",
      "Finished loading model, total used 1586 iterations   \n",
      "Finished loading model, total used 1586 iterations   \n",
      "  0%|          | 0/1 [01:41<?, ?trial/s, best loss=?]"
     ]
    },
    {
     "name": "stderr",
     "output_type": "stream",
     "text": [
      "c:\\Users\\DAF1\\anaconda3\\anaconda3\\envs\\RUMBooster\\Lib\\site-packages\\rumboost\\rumboost.py:825: UserWarning: Found `num_iterations` in params. Will use it instead of argument\n",
      "  _log_warning(f\"Found `{alias}` in params. Will use it instead of argument\")\n",
      "\n",
      "c:\\Users\\DAF1\\anaconda3\\anaconda3\\envs\\RUMBooster\\Lib\\site-packages\\lightgbm\\basic.py:1780: UserWarning: Overriding the parameters from Reference Dataset.\n",
      "  _log_warning('Overriding the parameters from Reference Dataset.')\n",
      "\n",
      "c:\\Users\\DAF1\\anaconda3\\anaconda3\\envs\\RUMBooster\\Lib\\site-packages\\lightgbm\\basic.py:1780: UserWarning: Overriding the parameters from Reference Dataset.\n",
      "  _log_warning('Overriding the parameters from Reference Dataset.')\n",
      "\n",
      "c:\\Users\\DAF1\\anaconda3\\anaconda3\\envs\\RUMBooster\\Lib\\site-packages\\lightgbm\\basic.py:1780: UserWarning: Overriding the parameters from Reference Dataset.\n",
      "  _log_warning('Overriding the parameters from Reference Dataset.')\n",
      "\n",
      "c:\\Users\\DAF1\\anaconda3\\anaconda3\\envs\\RUMBooster\\Lib\\site-packages\\lightgbm\\basic.py:1780: UserWarning: Overriding the parameters from Reference Dataset.\n",
      "  _log_warning('Overriding the parameters from Reference Dataset.')\n",
      "\n"
     ]
    },
    {
     "name": "stdout",
     "output_type": "stream",
     "text": [
      "Early stopping at iteration 892, with a best score on test set of 0.6585449369594082, and on train set of 0.6409978331417988\n",
      "Finished loading model, total used 993 iterations    \n",
      "Finished loading model, total used 993 iterations    \n",
      "Finished loading model, total used 993 iterations    \n",
      "Finished loading model, total used 993 iterations    \n",
      "  0%|          | 0/1 [02:12<?, ?trial/s, best loss=?]"
     ]
    },
    {
     "name": "stderr",
     "output_type": "stream",
     "text": [
      "c:\\Users\\DAF1\\anaconda3\\anaconda3\\envs\\RUMBooster\\Lib\\site-packages\\rumboost\\rumboost.py:825: UserWarning: Found `num_iterations` in params. Will use it instead of argument\n",
      "  _log_warning(f\"Found `{alias}` in params. Will use it instead of argument\")\n",
      "\n",
      "c:\\Users\\DAF1\\anaconda3\\anaconda3\\envs\\RUMBooster\\Lib\\site-packages\\lightgbm\\basic.py:1780: UserWarning: Overriding the parameters from Reference Dataset.\n",
      "  _log_warning('Overriding the parameters from Reference Dataset.')\n",
      "\n",
      "c:\\Users\\DAF1\\anaconda3\\anaconda3\\envs\\RUMBooster\\Lib\\site-packages\\lightgbm\\basic.py:1780: UserWarning: Overriding the parameters from Reference Dataset.\n",
      "  _log_warning('Overriding the parameters from Reference Dataset.')\n",
      "\n",
      "c:\\Users\\DAF1\\anaconda3\\anaconda3\\envs\\RUMBooster\\Lib\\site-packages\\lightgbm\\basic.py:1780: UserWarning: Overriding the parameters from Reference Dataset.\n",
      "  _log_warning('Overriding the parameters from Reference Dataset.')\n",
      "\n",
      "c:\\Users\\DAF1\\anaconda3\\anaconda3\\envs\\RUMBooster\\Lib\\site-packages\\lightgbm\\basic.py:1780: UserWarning: Overriding the parameters from Reference Dataset.\n",
      "  _log_warning('Overriding the parameters from Reference Dataset.')\n",
      "\n"
     ]
    },
    {
     "name": "stdout",
     "output_type": "stream",
     "text": [
      "Early stopping at iteration 1339, with a best score on test set of 0.6634461537926124, and on train set of 0.6370079921944384\n",
      "Finished loading model, total used 1440 iterations   \n",
      "Finished loading model, total used 1440 iterations   \n",
      "Finished loading model, total used 1440 iterations   \n",
      "Finished loading model, total used 1440 iterations   \n",
      "  0%|          | 0/1 [02:59<?, ?trial/s, best loss=?]"
     ]
    },
    {
     "name": "stderr",
     "output_type": "stream",
     "text": [
      "c:\\Users\\DAF1\\anaconda3\\anaconda3\\envs\\RUMBooster\\Lib\\site-packages\\rumboost\\rumboost.py:825: UserWarning: Found `num_iterations` in params. Will use it instead of argument\n",
      "  _log_warning(f\"Found `{alias}` in params. Will use it instead of argument\")\n",
      "\n",
      "c:\\Users\\DAF1\\anaconda3\\anaconda3\\envs\\RUMBooster\\Lib\\site-packages\\lightgbm\\basic.py:1780: UserWarning: Overriding the parameters from Reference Dataset.\n",
      "  _log_warning('Overriding the parameters from Reference Dataset.')\n",
      "\n",
      "c:\\Users\\DAF1\\anaconda3\\anaconda3\\envs\\RUMBooster\\Lib\\site-packages\\lightgbm\\basic.py:1780: UserWarning: Overriding the parameters from Reference Dataset.\n",
      "  _log_warning('Overriding the parameters from Reference Dataset.')\n",
      "\n",
      "c:\\Users\\DAF1\\anaconda3\\anaconda3\\envs\\RUMBooster\\Lib\\site-packages\\lightgbm\\basic.py:1780: UserWarning: Overriding the parameters from Reference Dataset.\n",
      "  _log_warning('Overriding the parameters from Reference Dataset.')\n",
      "\n",
      "c:\\Users\\DAF1\\anaconda3\\anaconda3\\envs\\RUMBooster\\Lib\\site-packages\\lightgbm\\basic.py:1780: UserWarning: Overriding the parameters from Reference Dataset.\n",
      "  _log_warning('Overriding the parameters from Reference Dataset.')\n",
      "\n"
     ]
    },
    {
     "name": "stdout",
     "output_type": "stream",
     "text": [
      "Early stopping at iteration 1108, with a best score on test set of 0.666548858771854, and on train set of 0.6368294978547153\n",
      "Finished loading model, total used 1209 iterations   \n",
      "Finished loading model, total used 1209 iterations   \n",
      "Finished loading model, total used 1209 iterations   \n",
      "Finished loading model, total used 1209 iterations   \n",
      "100%|██████████| 1/1 [03:39<00:00, 219.04s/trial, best loss: 0.6571032134915424]\n",
      "Best mu: 1.7441568376405705 \n",
      " Best negative CE: 0.6571032134915424\n"
     ]
    }
   ],
   "source": [
    "import hyperopt\n",
    "\n",
    "#specify nest\n",
    "nest = {0:[0], 1:[1], 2:[2, 3]}\n",
    "\n",
    "#specifiy seach of mu\n",
    "param_space =  {'mu': hyperopt.hp.uniform('mu', 1, 2)}\n",
    "\n",
    "#parameters for the rumboost training\n",
    "STATIC_PARAMS = {'n_jobs': -1,\n",
    "                'num_classes':4,\n",
    "                'objective':'multiclass',\n",
    "                'boosting': 'gbdt',\n",
    "                'monotone_constraints_method': 'advanced',\n",
    "                'verbosity': -1,\n",
    "                'early_stopping_round':100,\n",
    "                'num_iterations': 3000,\n",
    "                'learning_rate':0.1\n",
    "                }\n",
    "\n",
    "#rum_structure dictionary\n",
    "rum_structure = bio_to_rumboost(LPMC_model)\n",
    "\n",
    "#features and label column names\n",
    "features = [f for f in LPMC_train.columns if f != \"choice\"]\n",
    "label = \"choice\"\n",
    "\n",
    "#create lightgbm dataset\n",
    "lgb_train_set = lightgbm.Dataset(LPMC_train[features], label=LPMC_train[label], free_raw_data=False)\n",
    "lgb_test_set = lightgbm.Dataset(LPMC_test[features], label=LPMC_test[label], free_raw_data=False)\n",
    "\n",
    "#objective for hyperopt\n",
    "def objective(space):\n",
    "    params = {**space, **STATIC_PARAMS}\n",
    "    params['max_depth'] = 1\n",
    "\n",
    "    #create mu structure\n",
    "    mu = [1, 1, params.pop(\"mu\")]\n",
    "\n",
    "    loss = 0\n",
    "    N_sum = 0\n",
    "\n",
    "    #k-fold cross validation\n",
    "    for train_idx, test_idx in folds:\n",
    "        #obtain training and testing data for this iteration (split of k-Fold)\n",
    "        train_set = lgb_train_set.subset(sorted(train_idx))\n",
    "        test_set = lgb_train_set.subset(sorted(test_idx))\n",
    "\n",
    "        #train rumboost with nested parameters\n",
    "        clf_trained = rum_train(params, train_set, rum_structure, valid_sets=[test_set], nests=nest, mu=mu)\n",
    "\n",
    "        #predictions\n",
    "        proba, _, _ = clf_trained.predict(test_set, nests=nest, mu=mu)\n",
    "\n",
    "        # Cross-Entropy Loss\n",
    "        sum = 0\n",
    "        i = 0\n",
    "        for sel_mode in test_set.get_label():\n",
    "            sum = sum + np.log(proba[i,int(sel_mode)])\n",
    "            i += 1\n",
    "        N = i - 1\n",
    "        loss += -sum  # Original: (-sum/N) * N\n",
    "        N_sum += N\n",
    "\n",
    "    loss = loss / N_sum\n",
    "    return {'loss': loss, 'status': hyperopt.STATUS_OK, 'best_iteration': clf_trained.best_iteration}\n",
    "\n",
    "\n",
    "#%%\n",
    "#n_iter=25\n",
    "n_iter = 1\n",
    "\n",
    "trials = hyperopt.Trials()\n",
    "best_classifier = hyperopt.fmin(fn=objective,\n",
    "                                space=param_space,\n",
    "                                algo=hyperopt.tpe.suggest,\n",
    "                                max_evals=n_iter,\n",
    "                                trials=trials)\n",
    "\n",
    "print(f'Best mu: {best_classifier[\"mu\"]} \\n Best negative CE: {trials.best_trial[\"result\"][\"loss\"]}')\n"
   ]
  },
  {
   "cell_type": "markdown",
   "metadata": {},
   "source": [
    "### Cross-Validation\n",
    "\n",
    "Once we know the optimal value of $\\mu$, we can perform cross-validation to obtain the best number of trees.\n",
    "\n",
    "Note that we use the optimal value of $\\mu$ found with a bigger hyperparameter search, i.e. 1.17."
   ]
  },
  {
   "cell_type": "code",
   "execution_count": null,
   "metadata": {},
   "outputs": [
    {
     "name": "stdout",
     "output_type": "stream",
     "text": [
      "--------------------------------------------------\n",
      "\n",
      "Iteration 1\n"
     ]
    },
    {
     "name": "stderr",
     "output_type": "stream",
     "text": [
      "c:\\Users\\ucesnjs\\OneDrive - University College London\\Documents\\PhD - UCL\\rumboost\\example\\..\\rumboost\\rumboost.py:825: UserWarning: Found `num_iterations` in params. Will use it instead of argument\n",
      "  _log_warning(f\"Found `{alias}` in params. Will use it instead of argument\")\n",
      "c:\\Users\\ucesnjs\\anaconda32\\envs\\lightgbm\\Lib\\site-packages\\lightgbm\\basic.py:1780: UserWarning: Overriding the parameters from Reference Dataset.\n",
      "  _log_warning('Overriding the parameters from Reference Dataset.')\n",
      "c:\\Users\\ucesnjs\\anaconda32\\envs\\lightgbm\\Lib\\site-packages\\lightgbm\\basic.py:1780: UserWarning: Overriding the parameters from Reference Dataset.\n",
      "  _log_warning('Overriding the parameters from Reference Dataset.')\n",
      "c:\\Users\\ucesnjs\\anaconda32\\envs\\lightgbm\\Lib\\site-packages\\lightgbm\\basic.py:1780: UserWarning: Overriding the parameters from Reference Dataset.\n",
      "  _log_warning('Overriding the parameters from Reference Dataset.')\n",
      "c:\\Users\\ucesnjs\\anaconda32\\envs\\lightgbm\\Lib\\site-packages\\lightgbm\\basic.py:1780: UserWarning: Overriding the parameters from Reference Dataset.\n",
      "  _log_warning('Overriding the parameters from Reference Dataset.')\n"
     ]
    },
    {
     "name": "stdout",
     "output_type": "stream",
     "text": [
      "Early stopping at iteration 1291, with a best score on test set of 0.6543006671161781, and on train set of 0.6387160257806288\n",
      "Finished loading model, total used 1392 iterations\n",
      "Finished loading model, total used 1392 iterations\n",
      "Finished loading model, total used 1392 iterations\n",
      "Finished loading model, total used 1392 iterations\n",
      "--------------------------------------------------\n",
      "\n",
      "Best cross entropy loss: 0.6543006671161781\n",
      "Best number of trees: 1291\n",
      "--------------------------------------------------\n",
      "\n",
      "Iteration 2\n"
     ]
    },
    {
     "name": "stderr",
     "output_type": "stream",
     "text": [
      "c:\\Users\\ucesnjs\\OneDrive - University College London\\Documents\\PhD - UCL\\rumboost\\example\\..\\rumboost\\rumboost.py:825: UserWarning: Found `num_iterations` in params. Will use it instead of argument\n",
      "  _log_warning(f\"Found `{alias}` in params. Will use it instead of argument\")\n",
      "c:\\Users\\ucesnjs\\anaconda32\\envs\\lightgbm\\Lib\\site-packages\\lightgbm\\basic.py:1780: UserWarning: Overriding the parameters from Reference Dataset.\n",
      "  _log_warning('Overriding the parameters from Reference Dataset.')\n",
      "c:\\Users\\ucesnjs\\anaconda32\\envs\\lightgbm\\Lib\\site-packages\\lightgbm\\basic.py:1780: UserWarning: Overriding the parameters from Reference Dataset.\n",
      "  _log_warning('Overriding the parameters from Reference Dataset.')\n",
      "c:\\Users\\ucesnjs\\anaconda32\\envs\\lightgbm\\Lib\\site-packages\\lightgbm\\basic.py:1780: UserWarning: Overriding the parameters from Reference Dataset.\n",
      "  _log_warning('Overriding the parameters from Reference Dataset.')\n",
      "c:\\Users\\ucesnjs\\anaconda32\\envs\\lightgbm\\Lib\\site-packages\\lightgbm\\basic.py:1780: UserWarning: Overriding the parameters from Reference Dataset.\n",
      "  _log_warning('Overriding the parameters from Reference Dataset.')\n"
     ]
    },
    {
     "name": "stdout",
     "output_type": "stream",
     "text": [
      "Early stopping at iteration 1625, with a best score on test set of 0.6409292761468673, and on train set of 0.6403367047451071\n",
      "Finished loading model, total used 1726 iterations\n",
      "Finished loading model, total used 1726 iterations\n",
      "Finished loading model, total used 1726 iterations\n",
      "Finished loading model, total used 1726 iterations\n",
      "--------------------------------------------------\n",
      "\n",
      "Best cross entropy loss: 0.6409292761468673\n",
      "Best number of trees: 1625\n",
      "--------------------------------------------------\n",
      "\n",
      "Iteration 3\n"
     ]
    },
    {
     "name": "stderr",
     "output_type": "stream",
     "text": [
      "c:\\Users\\ucesnjs\\OneDrive - University College London\\Documents\\PhD - UCL\\rumboost\\example\\..\\rumboost\\rumboost.py:825: UserWarning: Found `num_iterations` in params. Will use it instead of argument\n",
      "  _log_warning(f\"Found `{alias}` in params. Will use it instead of argument\")\n",
      "c:\\Users\\ucesnjs\\anaconda32\\envs\\lightgbm\\Lib\\site-packages\\lightgbm\\basic.py:1780: UserWarning: Overriding the parameters from Reference Dataset.\n",
      "  _log_warning('Overriding the parameters from Reference Dataset.')\n",
      "c:\\Users\\ucesnjs\\anaconda32\\envs\\lightgbm\\Lib\\site-packages\\lightgbm\\basic.py:1780: UserWarning: Overriding the parameters from Reference Dataset.\n",
      "  _log_warning('Overriding the parameters from Reference Dataset.')\n",
      "c:\\Users\\ucesnjs\\anaconda32\\envs\\lightgbm\\Lib\\site-packages\\lightgbm\\basic.py:1780: UserWarning: Overriding the parameters from Reference Dataset.\n",
      "  _log_warning('Overriding the parameters from Reference Dataset.')\n",
      "c:\\Users\\ucesnjs\\anaconda32\\envs\\lightgbm\\Lib\\site-packages\\lightgbm\\basic.py:1780: UserWarning: Overriding the parameters from Reference Dataset.\n",
      "  _log_warning('Overriding the parameters from Reference Dataset.')\n"
     ]
    },
    {
     "name": "stdout",
     "output_type": "stream",
     "text": [
      "Early stopping at iteration 921, with a best score on test set of 0.6577617492916592, and on train set of 0.6402262085982907\n",
      "Finished loading model, total used 1022 iterations\n",
      "Finished loading model, total used 1022 iterations\n",
      "Finished loading model, total used 1022 iterations\n",
      "Finished loading model, total used 1022 iterations\n",
      "--------------------------------------------------\n",
      "\n",
      "Best cross entropy loss: 0.6577617492916592\n",
      "Best number of trees: 921\n",
      "--------------------------------------------------\n",
      "\n",
      "Iteration 4\n"
     ]
    },
    {
     "name": "stderr",
     "output_type": "stream",
     "text": [
      "c:\\Users\\ucesnjs\\OneDrive - University College London\\Documents\\PhD - UCL\\rumboost\\example\\..\\rumboost\\rumboost.py:825: UserWarning: Found `num_iterations` in params. Will use it instead of argument\n",
      "  _log_warning(f\"Found `{alias}` in params. Will use it instead of argument\")\n",
      "c:\\Users\\ucesnjs\\anaconda32\\envs\\lightgbm\\Lib\\site-packages\\lightgbm\\basic.py:1780: UserWarning: Overriding the parameters from Reference Dataset.\n",
      "  _log_warning('Overriding the parameters from Reference Dataset.')\n",
      "c:\\Users\\ucesnjs\\anaconda32\\envs\\lightgbm\\Lib\\site-packages\\lightgbm\\basic.py:1780: UserWarning: Overriding the parameters from Reference Dataset.\n",
      "  _log_warning('Overriding the parameters from Reference Dataset.')\n",
      "c:\\Users\\ucesnjs\\anaconda32\\envs\\lightgbm\\Lib\\site-packages\\lightgbm\\basic.py:1780: UserWarning: Overriding the parameters from Reference Dataset.\n",
      "  _log_warning('Overriding the parameters from Reference Dataset.')\n",
      "c:\\Users\\ucesnjs\\anaconda32\\envs\\lightgbm\\Lib\\site-packages\\lightgbm\\basic.py:1780: UserWarning: Overriding the parameters from Reference Dataset.\n",
      "  _log_warning('Overriding the parameters from Reference Dataset.')\n"
     ]
    },
    {
     "name": "stdout",
     "output_type": "stream",
     "text": [
      "Early stopping at iteration 1232, with a best score on test set of 0.6624246467658123, and on train set of 0.636870502526712\n",
      "Finished loading model, total used 1333 iterations\n",
      "Finished loading model, total used 1333 iterations\n",
      "Finished loading model, total used 1333 iterations\n",
      "Finished loading model, total used 1333 iterations\n",
      "--------------------------------------------------\n",
      "\n",
      "Best cross entropy loss: 0.6624246467658123\n",
      "Best number of trees: 1232\n",
      "--------------------------------------------------\n",
      "\n",
      "Iteration 5\n"
     ]
    },
    {
     "name": "stderr",
     "output_type": "stream",
     "text": [
      "c:\\Users\\ucesnjs\\OneDrive - University College London\\Documents\\PhD - UCL\\rumboost\\example\\..\\rumboost\\rumboost.py:825: UserWarning: Found `num_iterations` in params. Will use it instead of argument\n",
      "  _log_warning(f\"Found `{alias}` in params. Will use it instead of argument\")\n",
      "c:\\Users\\ucesnjs\\anaconda32\\envs\\lightgbm\\Lib\\site-packages\\lightgbm\\basic.py:1780: UserWarning: Overriding the parameters from Reference Dataset.\n",
      "  _log_warning('Overriding the parameters from Reference Dataset.')\n",
      "c:\\Users\\ucesnjs\\anaconda32\\envs\\lightgbm\\Lib\\site-packages\\lightgbm\\basic.py:1780: UserWarning: Overriding the parameters from Reference Dataset.\n",
      "  _log_warning('Overriding the parameters from Reference Dataset.')\n",
      "c:\\Users\\ucesnjs\\anaconda32\\envs\\lightgbm\\Lib\\site-packages\\lightgbm\\basic.py:1780: UserWarning: Overriding the parameters from Reference Dataset.\n",
      "  _log_warning('Overriding the parameters from Reference Dataset.')\n",
      "c:\\Users\\ucesnjs\\anaconda32\\envs\\lightgbm\\Lib\\site-packages\\lightgbm\\basic.py:1780: UserWarning: Overriding the parameters from Reference Dataset.\n",
      "  _log_warning('Overriding the parameters from Reference Dataset.')\n"
     ]
    },
    {
     "name": "stdout",
     "output_type": "stream",
     "text": [
      "Early stopping at iteration 1148, with a best score on test set of 0.6653590794887231, and on train set of 0.6362457959363418\n",
      "Finished loading model, total used 1249 iterations\n",
      "Finished loading model, total used 1249 iterations\n",
      "Finished loading model, total used 1249 iterations\n",
      "Finished loading model, total used 1249 iterations\n",
      "--------------------------------------------------\n",
      "\n",
      "Best cross entropy loss: 0.6653590794887231\n",
      "Best number of trees: 1148\n",
      "--------------------------------------------------\n",
      "\n",
      "Cross validation negative cross entropy loss: 0.656155083761848\n",
      "With a number of trees on average of 1243.4\n"
     ]
    }
   ],
   "source": [
    "_, _, folds = load_preprocess_LPMC()\n",
    "params = {'n_jobs': -1,\n",
    "          'num_classes':4,\n",
    "          'objective':'multiclass',\n",
    "          'boosting': 'gbdt',\n",
    "          'monotone_constraints_method': 'advanced',\n",
    "          'verbosity': -1,\n",
    "          'num_iterations':3000,\n",
    "          'early_stopping_round':100,\n",
    "          'learning_rate':0.1,\n",
    "          'max_depth':1\n",
    "          }\n",
    "\n",
    "#optimal mu\n",
    "optimal_mu = [1, 1, 1.166746773143513]\n",
    "\n",
    "ce_loss = 0\n",
    "num_trees = 0\n",
    "\n",
    "#CV with 5 folds\n",
    "for i, (train_idx, test_idx) in enumerate(folds):\n",
    "\n",
    "    #create the lightgbm CV training and validation set\n",
    "    train_set = lgb_train_set.subset(sorted(train_idx))\n",
    "    test_set = lgb_train_set.subset(sorted(test_idx))\n",
    "\n",
    "    #deep copy of parameters\n",
    "    param = copy.deepcopy(params)\n",
    "\n",
    "    print('-'*50 + '\\n')\n",
    "    print(f'Iteration {i+1}')\n",
    "\n",
    "    #train the model with rum_train and nest parameters\n",
    "    LPMC_model_trained = rum_train(param,train_set,rum_structure=rum_structure, valid_sets = [test_set], mu=optimal_mu, nests=nest)\n",
    "\n",
    "    #aggregate results\n",
    "    ce_loss += LPMC_model_trained.best_score\n",
    "    num_trees += LPMC_model_trained.best_iteration\n",
    "    print('-'*50 + '\\n')\n",
    "    print(f'Best cross entropy loss: {LPMC_model_trained.best_score}')\n",
    "    print(f'Best number of trees: {LPMC_model_trained.best_iteration}')\n",
    "\n",
    "ce_loss = ce_loss/5\n",
    "num_trees = num_trees/5\n",
    "print('-'*50 + '\\n')\n",
    "print(f'Cross validation negative cross entropy loss: {ce_loss}')\n",
    "print(f'With a number of trees on average of {num_trees}')"
   ]
  },
  {
   "cell_type": "markdown",
   "metadata": {},
   "source": [
    "### Testing the model on out-of-sample data\n",
    "\n",
    "Now that we have the optimal number of trees (1243), we can train the final version of the model on the full dataset, and test it on out-of-sample data with the ```predict()``` function. Note that the dataset must be a lightgbm object in the ```predict()``` function.\n",
    "\n",
    "**Also note that you need to specify ```mu``` and ```nests``` in the predict function to adapt the probability formula accordingly.**"
   ]
  },
  {
   "cell_type": "code",
   "execution_count": null,
   "metadata": {},
   "outputs": [
    {
     "name": "stderr",
     "output_type": "stream",
     "text": [
      "c:\\Users\\ucesnjs\\OneDrive - University College London\\Documents\\PhD - UCL\\rumboost\\example\\..\\rumboost\\rumboost.py:825: UserWarning: Found `num_iterations` in params. Will use it instead of argument\n",
      "  _log_warning(f\"Found `{alias}` in params. Will use it instead of argument\")\n"
     ]
    },
    {
     "name": "stdout",
     "output_type": "stream",
     "text": [
      "Finished loading model, total used 1243 iterations\n",
      "Finished loading model, total used 1243 iterations\n",
      "Finished loading model, total used 1243 iterations\n",
      "Finished loading model, total used 1243 iterations\n",
      "--------------------------------------------------\n",
      "Final negative cross-entropy on the test set: 0.6732825945666746\n"
     ]
    }
   ],
   "source": [
    "params['num_iterations'] = 1243\n",
    "\n",
    "LPMCnested_model_fully_trained = rum_train(params, lgb_train_set, rum_structure, mu=optimal_mu, nests=nest)\n",
    "\n",
    "preds, _, _ = LPMCnested_model_fully_trained.predict(lgb_test_set, mu=optimal_mu, nests=nest)\n",
    "\n",
    "ce_test = cross_entropy(preds, lgb_test_set.get_label().astype(int))\n",
    "\n",
    "print('-'*50)\n",
    "print(f'Final negative cross-entropy on the test set: {ce_test}')"
   ]
  },
  {
   "cell_type": "markdown",
   "metadata": {},
   "source": [
    "# References\n",
    "\n",
    "Salvadé, N., & Hillel, T. (2024). Rumboost: Gradient Boosted Random Utility Models. *arXiv preprint [arXiv:2401.11954](https://arxiv.org/abs/2401.11954)*\n",
    "\n",
    "Hillel, T., Elshafie, M.Z.E.B., Jin, Y., 2018. Recreating passenger mode choice-sets for transport simulation: A case study of London, UK. Proceedings of the Institution of Civil Engineers - Smart Infrastructure and Construction 171, 29–42. https://doi.org/10.1680/jsmic.17.00018"
   ]
  },
  {
   "cell_type": "markdown",
   "metadata": {},
   "source": []
  }
 ],
 "metadata": {
  "kernelspec": {
   "display_name": "Python 3",
   "language": "python",
   "name": "python3"
  },
  "language_info": {
   "codemirror_mode": {
    "name": "ipython",
    "version": 3
   },
   "file_extension": ".py",
   "mimetype": "text/x-python",
   "name": "python",
   "nbconvert_exporter": "python",
   "pygments_lexer": "ipython3",
   "version": "3.11.3"
  }
 },
 "nbformat": 4,
 "nbformat_minor": 2
}
